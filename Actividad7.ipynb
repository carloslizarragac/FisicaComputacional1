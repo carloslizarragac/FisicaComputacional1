{
  "nbformat": 4,
  "nbformat_minor": 0,
  "metadata": {
    "colab": {
      "name": "Actividad7.ipynb",
      "provenance": [],
      "authorship_tag": "ABX9TyPmv91Ay32++cdeFM8d6a6f",
      "include_colab_link": true
    },
    "kernelspec": {
      "name": "python3",
      "display_name": "Python 3"
    }
  },
  "cells": [
    {
      "cell_type": "markdown",
      "metadata": {
        "id": "view-in-github",
        "colab_type": "text"
      },
      "source": [
        "<a href=\"https://colab.research.google.com/github/carloslizarragac/FisicaComputacional1/blob/master/Actividad7.ipynb\" target=\"_parent\"><img src=\"https://colab.research.google.com/assets/colab-badge.svg\" alt=\"Open In Colab\"/></a>"
      ]
    },
    {
      "cell_type": "markdown",
      "metadata": {
        "id": "HfKngHgC-I7U"
      },
      "source": [
        "### Algebra Lineal con SciPy.\n",
        "\n",
        "Utilizaremos la biblioteca *scipy.linalg* para operar con vectores y matrices (Arreglos de NumPy: 1-D, 2-D, 3-D, etc). \n"
      ]
    },
    {
      "cell_type": "code",
      "metadata": {
        "id": "DUfU9ZPp6Jm8"
      },
      "source": [
        "# 1 de marzo de 2021\n",
        "# Cargamos las bibliotecas para trabajar en Algebra Lineal\n",
        "\n",
        "import numpy as np\n",
        "import scipy.linalg as la\n",
        "from numpy.linalg import matrix_power as mpow\n"
      ],
      "execution_count": 26,
      "outputs": []
    },
    {
      "cell_type": "markdown",
      "metadata": {
        "id": "YQEr3Uo6_B8K"
      },
      "source": [
        "### Arreglos de Numpy 1-D.\n",
        "\n",
        "Los arreglos en Python, tienen: dimensión, forma y tamaño. \n"
      ]
    },
    {
      "cell_type": "code",
      "metadata": {
        "colab": {
          "base_uri": "https://localhost:8080/"
        },
        "id": "HuePxUNy7JMh",
        "outputId": "ffa27719-a141-4db1-92dd-71ed94667be7"
      },
      "source": [
        "# Definimos un arreglo 1-D\n",
        "a = np.array([1,2,3,4,3,2,1])\n",
        "print(a)"
      ],
      "execution_count": 2,
      "outputs": [
        {
          "output_type": "stream",
          "text": [
            "[1 2 3 4 3 2 1]\n"
          ],
          "name": "stdout"
        }
      ]
    },
    {
      "cell_type": "code",
      "metadata": {
        "colab": {
          "base_uri": "https://localhost:8080/"
        },
        "id": "nSinGd2FADDO",
        "outputId": "ce6a3272-d7dc-4f06-bc99-91a78fe3c31d"
      },
      "source": [
        "# Propiedades del arreglo anterior\n",
        "print('Número de dimensiones:', a.ndim)\n",
        "print('Forma (shape):', a.shape)\n",
        "print('Tamaño (size):', a.size)"
      ],
      "execution_count": 3,
      "outputs": [
        {
          "output_type": "stream",
          "text": [
            "Número de dimensiones: 1\n",
            "Forma (shape): (7,)\n",
            "Tamaño (size): 7\n"
          ],
          "name": "stdout"
        }
      ]
    },
    {
      "cell_type": "code",
      "metadata": {
        "colab": {
          "base_uri": "https://localhost:8080/"
        },
        "id": "mNeQt4oeArIN",
        "outputId": "51a14e0f-a046-4728-936f-42899eccd45b"
      },
      "source": [
        "# Definimos un arreglo 2-D. Pensemos en una Matriz M de 2-D.\n",
        "M = np.array([[1,2],[3,4],[5,6],[7,8]])\n",
        "print(M)"
      ],
      "execution_count": 4,
      "outputs": [
        {
          "output_type": "stream",
          "text": [
            "[[1 2]\n",
            " [3 4]\n",
            " [5 6]\n",
            " [7 8]]\n"
          ],
          "name": "stdout"
        }
      ]
    },
    {
      "cell_type": "code",
      "metadata": {
        "colab": {
          "base_uri": "https://localhost:8080/"
        },
        "id": "23Gp028hBLL6",
        "outputId": "f1452786-0fdf-4d85-c058-1dfd47c866e0"
      },
      "source": [
        "# Propiedades del arreglo anterior. \n",
        "print('Número de dimensiones:', M.ndim)\n",
        "print('Forma (shape):', M.shape)\n",
        "print('Tamaño (size):', M.size)\n"
      ],
      "execution_count": 5,
      "outputs": [
        {
          "output_type": "stream",
          "text": [
            "Número de dimensiones: 2\n",
            "Forma (shape): (4, 2)\n",
            "Tamaño (size): 8\n"
          ],
          "name": "stdout"
        }
      ]
    },
    {
      "cell_type": "code",
      "metadata": {
        "colab": {
          "base_uri": "https://localhost:8080/"
        },
        "id": "uN8GXOVJBh8o",
        "outputId": "14666938-67f3-4388-8507-84c4bfbbd97b"
      },
      "source": [
        "# Podemos seleccionar una columna 1 de la matriz M (columnas:0,1) \n",
        "col = M[:,1] \n",
        "print(col)"
      ],
      "execution_count": 8,
      "outputs": [
        {
          "output_type": "stream",
          "text": [
            "[2 4 6 8]\n"
          ],
          "name": "stdout"
        }
      ]
    },
    {
      "cell_type": "code",
      "metadata": {
        "colab": {
          "base_uri": "https://localhost:8080/"
        },
        "id": "I8OJ5lnZCQ0v",
        "outputId": "edde70b7-6c9b-4775-87d6-532192350923"
      },
      "source": [
        "# Propiedades del arreglo anterior. \n",
        "print('Número de dimensiones:', col.ndim)\n",
        "print('Forma (shape):', col.shape)\n",
        "print('Tamaño (size):', col.size)"
      ],
      "execution_count": 10,
      "outputs": [
        {
          "output_type": "stream",
          "text": [
            "Número de dimensiones: 1\n",
            "Forma (shape): (4,)\n",
            "Tamaño (size): 4\n"
          ],
          "name": "stdout"
        }
      ]
    },
    {
      "cell_type": "markdown",
      "metadata": {
        "id": "Kzwy5TmVD1Bo"
      },
      "source": [
        "Pero, si seleccionamos una columna de una matriz 2-D, estamos seleccionando uno de los vectores en un espacio 2-D. Tenemos que usar la función *.reshape()*"
      ]
    },
    {
      "cell_type": "code",
      "metadata": {
        "colab": {
          "base_uri": "https://localhost:8080/"
        },
        "id": "WXMPixIACQ8h",
        "outputId": "d64522e3-5044-43cd-e103-7cf01a91d6a0"
      },
      "source": [
        "column = col.reshape(4,1)\n",
        "print(column)"
      ],
      "execution_count": 21,
      "outputs": [
        {
          "output_type": "stream",
          "text": [
            "[[2]\n",
            " [4]\n",
            " [6]\n",
            " [8]]\n"
          ],
          "name": "stdout"
        }
      ]
    },
    {
      "cell_type": "code",
      "metadata": {
        "colab": {
          "base_uri": "https://localhost:8080/"
        },
        "id": "TSuiC8sZCSDa",
        "outputId": "8762bac1-649a-448e-e773-71edb8407920"
      },
      "source": [
        "# Propiedades del arreglo anterior. \n",
        "print('Número de dimensiones:', column.ndim)\n",
        "print('Forma (shape):', column.shape)\n",
        "print('Tamaño (size):', column.size)\n"
      ],
      "execution_count": 22,
      "outputs": [
        {
          "output_type": "stream",
          "text": [
            "Número de dimensiones: 2\n",
            "Forma (shape): (4, 1)\n",
            "Tamaño (size): 4\n"
          ],
          "name": "stdout"
        }
      ]
    },
    {
      "cell_type": "markdown",
      "metadata": {
        "id": "UgPy7PR5Itx4"
      },
      "source": [
        "Aunque la variable 'col' y 'column' tengan los mismos datos, son dos objetos distintos.\n",
        " "
      ]
    },
    {
      "cell_type": "markdown",
      "metadata": {
        "id": "KVuOxkj1JEMS"
      },
      "source": [
        "### Operación y Funciones de Matrices.\n",
        "\n",
        "**Operaciones aritméticas**\n",
        "\n",
        "Las operaciones aritméticas +, -, /, * y ** se realizan elemento a elemento. \n",
        "\n",
        "Ejemplos:\n"
      ]
    },
    {
      "cell_type": "code",
      "metadata": {
        "colab": {
          "base_uri": "https://localhost:8080/"
        },
        "id": "6t8sPW6dH68d",
        "outputId": "f1045c01-6c10-4055-d05b-2705a3db9d82"
      },
      "source": [
        "# Definimos una matriz M\n",
        "M = np.array([[1,2],[3,4]])\n",
        "print(M)\n"
      ],
      "execution_count": 23,
      "outputs": [
        {
          "output_type": "stream",
          "text": [
            "[[1 2]\n",
            " [3 4]]\n"
          ],
          "name": "stdout"
        }
      ]
    },
    {
      "cell_type": "markdown",
      "metadata": {
        "id": "aiaOHpZ_SWcU"
      },
      "source": [
        "**Multiplicación de Matrices**\n"
      ]
    },
    {
      "cell_type": "code",
      "metadata": {
        "colab": {
          "base_uri": "https://localhost:8080/"
        },
        "id": "yG2wfflKKN0Y",
        "outputId": "16f36db8-3aea-43fb-9440-ee301dcbbf0d"
      },
      "source": [
        "# Producto simple (elemento a elemento)\n",
        "M*M"
      ],
      "execution_count": 24,
      "outputs": [
        {
          "output_type": "execute_result",
          "data": {
            "text/plain": [
              "array([[ 1,  4],\n",
              "       [ 9, 16]])"
            ]
          },
          "metadata": {
            "tags": []
          },
          "execution_count": 24
        }
      ]
    },
    {
      "cell_type": "code",
      "metadata": {
        "colab": {
          "base_uri": "https://localhost:8080/"
        },
        "id": "oxeCZPuHKZJd",
        "outputId": "cd63175c-192e-48fb-e0cd-4303826336a7"
      },
      "source": [
        "# Producto matricial \n",
        "M@M "
      ],
      "execution_count": 25,
      "outputs": [
        {
          "output_type": "execute_result",
          "data": {
            "text/plain": [
              "array([[ 7, 10],\n",
              "       [15, 22]])"
            ]
          },
          "metadata": {
            "tags": []
          },
          "execution_count": 25
        }
      ]
    },
    {
      "cell_type": "code",
      "metadata": {
        "id": "IZ9GKxwvNRI3"
      },
      "source": [
        ""
      ],
      "execution_count": null,
      "outputs": []
    },
    {
      "cell_type": "markdown",
      "metadata": {
        "id": "BkOo7ZE9O0lb"
      },
      "source": [
        "**Ejercicio 1.** Defina las siguientes matrices.\n",
        "\n",
        "\\begin{gather}\n",
        " A\n",
        " =\n",
        "  \\begin{bmatrix}\n",
        "   1 & 3 \\\\\n",
        "   -1 & 7\n",
        "   \\end{bmatrix}\n",
        "\\end{gather}\n",
        "\n",
        "\\begin{gather}\n",
        " B\n",
        " =\n",
        "  \\begin{bmatrix}\n",
        "   5 & 2 \\\\\n",
        "   1 & 2\n",
        "   \\end{bmatrix}\n",
        "\\end{gather}\n",
        " y la matrix identidad \n",
        " \\begin{gather}\n",
        " I\n",
        " =\n",
        "  \\begin{bmatrix}\n",
        "   1 & 0 \\\\\n",
        "   0 & 1\n",
        "   \\end{bmatrix}\n",
        "\\end{gather}\n",
        "Calcule el resultado de 2*I+3*A+A@B.\n",
        "\n",
        "Para definir la matriz identidad, se puede utilizar la función *np.eye(2, dtype=int)*. Ver manual de  [np.eye()](https://numpy.org/doc/stable/reference/generated/numpy.eye.html).\n",
        "\n",
        "\n"
      ]
    },
    {
      "cell_type": "markdown",
      "metadata": {
        "id": "GdwXeqd6SjXn"
      },
      "source": [
        "**Potencias de Matrices**\n",
        "\n",
        "No existe un símbolo para denotar las potencias de matrices. Por eso definimos la función mpow en la 1a celda de bibliotecas.\n",
        "\n",
        "from numpy.linalg import matrix_power as mpow"
      ]
    },
    {
      "cell_type": "code",
      "metadata": {
        "colab": {
          "base_uri": "https://localhost:8080/"
        },
        "id": "x6RbBm7WSBiD",
        "outputId": "c9d6fe04-b8c4-4213-cc72-4f52af0fa069"
      },
      "source": [
        "# Teníamos una matriz M definida. \n",
        "print(M)"
      ],
      "execution_count": 27,
      "outputs": [
        {
          "output_type": "stream",
          "text": [
            "[[1 2]\n",
            " [3 4]]\n"
          ],
          "name": "stdout"
        }
      ]
    },
    {
      "cell_type": "code",
      "metadata": {
        "colab": {
          "base_uri": "https://localhost:8080/"
        },
        "id": "TFIW2FA7Te8H",
        "outputId": "2c06e3be-ae6c-4011-f863-c24404d0cdb4"
      },
      "source": [
        "# Cuadrado: M^2 = M@M\n",
        "print(M@M)\n",
        "print(mpow(M,2))"
      ],
      "execution_count": 28,
      "outputs": [
        {
          "output_type": "stream",
          "text": [
            "[[ 7 10]\n",
            " [15 22]]\n",
            "[[ 7 10]\n",
            " [15 22]]\n"
          ],
          "name": "stdout"
        }
      ]
    },
    {
      "cell_type": "code",
      "metadata": {
        "colab": {
          "base_uri": "https://localhost:8080/"
        },
        "id": "EcRNOhtbT16Y",
        "outputId": "5e1c660f-8d3d-43a1-9b51-d4ef0fd8ea8a"
      },
      "source": [
        "# Quinta potencia: M^5 = M@M@M@M@M\n",
        "print(M@M@M@M@M)\n",
        "print(mpow(M,5))"
      ],
      "execution_count": 29,
      "outputs": [
        {
          "output_type": "stream",
          "text": [
            "[[1069 1558]\n",
            " [2337 3406]]\n",
            "[[1069 1558]\n",
            " [2337 3406]]\n"
          ],
          "name": "stdout"
        }
      ]
    },
    {
      "cell_type": "markdown",
      "metadata": {
        "id": "rCf-16WvUfmt"
      },
      "source": [
        "**Matriz Transpuesta**\n",
        "$M^T$"
      ]
    },
    {
      "cell_type": "code",
      "metadata": {
        "colab": {
          "base_uri": "https://localhost:8080/"
        },
        "id": "ALQD6MnGUFt8",
        "outputId": "90d1769e-bfe9-446b-c401-df0ee64fd110"
      },
      "source": [
        "# La matriz M y su transpuesta\n",
        "print(M)\n",
        "print(M.T)\n"
      ],
      "execution_count": 30,
      "outputs": [
        {
          "output_type": "stream",
          "text": [
            "[[1 2]\n",
            " [3 4]]\n",
            "[[1 3]\n",
            " [2 4]]\n"
          ],
          "name": "stdout"
        }
      ]
    },
    {
      "cell_type": "code",
      "metadata": {
        "colab": {
          "base_uri": "https://localhost:8080/"
        },
        "id": "valagJKlU1ac",
        "outputId": "db77c198-e690-465a-f233-6d208261a50b"
      },
      "source": [
        "# El producto de M por M.T, debe ser una matriz simétrica.\n",
        "M @ M.T"
      ],
      "execution_count": 31,
      "outputs": [
        {
          "output_type": "execute_result",
          "data": {
            "text/plain": [
              "array([[ 5, 11],\n",
              "       [11, 25]])"
            ]
          },
          "metadata": {
            "tags": []
          },
          "execution_count": 31
        }
      ]
    },
    {
      "cell_type": "markdown",
      "metadata": {
        "id": "yYVen43BZS5G"
      },
      "source": [
        "**Traza de una Matriz**\n",
        "\n",
        "Suma de los elementos de la diagonal. Usaremos la función de NumPy: *np.trace*.\n"
      ]
    },
    {
      "cell_type": "code",
      "metadata": {
        "colab": {
          "base_uri": "https://localhost:8080/"
        },
        "id": "v7HPwdhKZwNO",
        "outputId": "2d64c8b8-5dba-4aae-9ae0-b017575557f4"
      },
      "source": [
        "# Traza de la matriz M.\n",
        "print(M)\n",
        "print(np.trace(M))"
      ],
      "execution_count": 34,
      "outputs": [
        {
          "output_type": "stream",
          "text": [
            "[[1 2]\n",
            " [3 4]]\n",
            "5\n"
          ],
          "name": "stdout"
        }
      ]
    },
    {
      "cell_type": "markdown",
      "metadata": {
        "id": "2qivcg_yWTky"
      },
      "source": [
        "**Determinante de una Matrix**\n",
        "\n",
        "Se utiliza la función [scipy.linalg.det](https://docs.scipy.org/doc/scipy/reference/generated/scipy.linalg.det.html#scipy.linalg.det) \n"
      ]
    },
    {
      "cell_type": "markdown",
      "metadata": {
        "id": "_0EfVIfur5O_"
      },
      "source": [
        "Para la matriz M, \n",
        "\\begin{gather}\n",
        " M\n",
        " =\n",
        "  \\begin{bmatrix}\n",
        "   a & b \\\\\n",
        "   c & d\n",
        "   \\end{bmatrix}\n",
        "\\end{gather}\n",
        "\n",
        "det(M) = $ad-bc$\n"
      ]
    },
    {
      "cell_type": "code",
      "metadata": {
        "colab": {
          "base_uri": "https://localhost:8080/"
        },
        "id": "49-CFM0QWpGt",
        "outputId": "c49f51c9-10e8-4c6d-b061-65b869a9b21f"
      },
      "source": [
        "# Determinante de la matriz M\n",
        "print(M)\n",
        "print(la.det(M))"
      ],
      "execution_count": 35,
      "outputs": [
        {
          "output_type": "stream",
          "text": [
            "[[1 2]\n",
            " [3 4]]\n",
            "-2.0\n"
          ],
          "name": "stdout"
        }
      ]
    },
    {
      "cell_type": "markdown",
      "metadata": {
        "id": "eAhdU-JJVqtN"
      },
      "source": [
        "**Matriz Inversa**\n",
        "\n",
        "Se calcula con la función [scipy.linalg.inv](https://docs.scipy.org/doc/scipy/reference/generated/scipy.linalg.inv.html#scipy.linalg.inv)\n",
        "\n",
        "**Nota:** Para invertir una Matriz, su Determinante no debe ser cero.\n",
        "\n",
        "Para una matriz $M$, la inversa $M^{-1}$\n",
        "\n",
        "\\begin{gather}\n",
        " M\n",
        " =\n",
        "  \\begin{bmatrix}\n",
        "   a & b \\\\\n",
        "   c & d\n",
        "   \\end{bmatrix}\n",
        "\\end{gather}\n",
        "\n",
        "\\begin{gather}\n",
        " M^{-1}\n",
        " = \\frac{1}{\\det(M)}\n",
        "  \\begin{bmatrix}\n",
        "   d & -b \\\\\n",
        "   -c & a\n",
        "   \\end{bmatrix}\n",
        "\\end{gather}"
      ]
    },
    {
      "cell_type": "code",
      "metadata": {
        "colab": {
          "base_uri": "https://localhost:8080/"
        },
        "id": "zd4AzBFAVWxe",
        "outputId": "c98f24be-8357-43ec-90ed-328270521935"
      },
      "source": [
        "# Matriz inversa de M\n",
        "la.inv(M)"
      ],
      "execution_count": 32,
      "outputs": [
        {
          "output_type": "execute_result",
          "data": {
            "text/plain": [
              "array([[-2. ,  1. ],\n",
              "       [ 1.5, -0.5]])"
            ]
          },
          "metadata": {
            "tags": []
          },
          "execution_count": 32
        }
      ]
    },
    {
      "cell_type": "markdown",
      "metadata": {
        "id": "S9cC2yfee-PS"
      },
      "source": [
        "**Ejercicio 2**. Los polinomios característicos y el Teorema de Cayley-Hamilton.\n",
        "\n",
        "El polinomio característico de una matriz M esta dado en general por la ecuación \n",
        "\\begin{equation}\n",
        "\\det(M - \\lambda I) = 0\n",
        "\\end{equation}\n",
        "Para una matriz cuadrada M (2x2), el polinomio característico se puede escribir como\n",
        "\\begin{equation}\n",
        "P_2 (\\lambda) = \\det{(M)} - \\mathrm{tr \\,}(M) \\, \\lambda + \\lambda^2   \n",
        "\\end{equation}\n",
        "y para una matriz cuadrada M (3x3), el polinomio característico resulta ser\n",
        "\n",
        "\\begin{equation}\n",
        "P_3 (\\lambda) = \\frac{1}{6} \n",
        "[ \\mathrm{tr}^3 (M) + 2 \\, \\mathrm{tr }(M^3) - 3 \\, \\mathrm{tr}(M) \\mathrm{tr}(M^2) ] - \n",
        "\\frac{1}{2} [ \\mathrm{tr}^2 (M) - \\mathrm{tr}(M^2) ] \\lambda + \\mathrm{tr}(M) \\lambda^2 - \\lambda^3\n",
        "\\end{equation}\n",
        "\n",
        "[El Teorema de Cayley-Hamilton](https://en.wikipedia.org/wiki/Cayley–Hamilton_theorem) nos dice que una matriz cuadrada M (2x2), satisface el polinomio característico\n",
        "\\begin{equation}\n",
        "P_2(M) = \\det(M) - \\mathrm{tr}(M) M + M^2 \n",
        "\\end{equation}\n",
        "y en general cualquier matriz cuadrada M (nxn), satisface $P_n(M)$. \n",
        "\n",
        "Demuestre esto para cualquier matriz M (2x2),  ($\\det(M) \\neq 0$).\n"
      ]
    },
    {
      "cell_type": "code",
      "metadata": {
        "id": "lvjeIrz3WKC5"
      },
      "source": [
        ""
      ],
      "execution_count": null,
      "outputs": []
    }
  ]
}