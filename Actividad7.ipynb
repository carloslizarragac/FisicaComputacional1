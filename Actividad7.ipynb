{
  "nbformat": 4,
  "nbformat_minor": 0,
  "metadata": {
    "colab": {
      "name": "Actividad7.ipynb",
      "provenance": [],
      "authorship_tag": "ABX9TyPMAYGV39SUKqTDcM0MU8zY",
      "include_colab_link": true
    },
    "kernelspec": {
      "name": "python3",
      "display_name": "Python 3"
    }
  },
  "cells": [
    {
      "cell_type": "markdown",
      "metadata": {
        "id": "view-in-github",
        "colab_type": "text"
      },
      "source": [
        "<a href=\"https://colab.research.google.com/github/carloslizarragac/FisicaComputacional1/blob/master/Actividad7.ipynb\" target=\"_parent\"><img src=\"https://colab.research.google.com/assets/colab-badge.svg\" alt=\"Open In Colab\"/></a>"
      ]
    },
    {
      "cell_type": "markdown",
      "metadata": {
        "id": "HfKngHgC-I7U"
      },
      "source": [
        "### Algebra Lineal con SciPy.\n",
        "\n",
        "Utilizaremos la biblioteca *scipy.linalg* para operar con vectores y matrices (Arreglos de NumPy: 1-D, 2-D, 3-D, etc). \n"
      ]
    },
    {
      "cell_type": "code",
      "metadata": {
        "id": "DUfU9ZPp6Jm8"
      },
      "source": [
        "# 4 de marzo de 2021\n",
        "# Cargamos las bibliotecas para trabajar en Algebra Lineal\n",
        "\n",
        "import numpy as np\n",
        "import scipy.linalg as la\n",
        "from numpy.linalg import matrix_power as mpow\n",
        "\n",
        "import matplotlib.pyplot as plt\n",
        "%matplotlib inline\n"
      ],
      "execution_count": 2,
      "outputs": []
    },
    {
      "cell_type": "markdown",
      "metadata": {
        "id": "YQEr3Uo6_B8K"
      },
      "source": [
        "### Arreglos de Numpy 1-D.\n",
        "\n",
        "Los arreglos en Python, tienen: dimensión, forma y tamaño. \n"
      ]
    },
    {
      "cell_type": "code",
      "metadata": {
        "colab": {
          "base_uri": "https://localhost:8080/"
        },
        "id": "HuePxUNy7JMh",
        "outputId": "ffa27719-a141-4db1-92dd-71ed94667be7"
      },
      "source": [
        "# Definimos un arreglo 1-D\n",
        "a = np.array([1,2,3,4,3,2,1])\n",
        "print(a)"
      ],
      "execution_count": 2,
      "outputs": [
        {
          "output_type": "stream",
          "text": [
            "[1 2 3 4 3 2 1]\n"
          ],
          "name": "stdout"
        }
      ]
    },
    {
      "cell_type": "code",
      "metadata": {
        "colab": {
          "base_uri": "https://localhost:8080/"
        },
        "id": "nSinGd2FADDO",
        "outputId": "ce6a3272-d7dc-4f06-bc99-91a78fe3c31d"
      },
      "source": [
        "# Propiedades del arreglo anterior\n",
        "print('Número de dimensiones:', a.ndim)\n",
        "print('Forma (shape):', a.shape)\n",
        "print('Tamaño (size):', a.size)"
      ],
      "execution_count": 3,
      "outputs": [
        {
          "output_type": "stream",
          "text": [
            "Número de dimensiones: 1\n",
            "Forma (shape): (7,)\n",
            "Tamaño (size): 7\n"
          ],
          "name": "stdout"
        }
      ]
    },
    {
      "cell_type": "markdown",
      "metadata": {
        "id": "OMZ9763qgomF"
      },
      "source": [
        "### Arreglo Numpy 2-D\n"
      ]
    },
    {
      "cell_type": "code",
      "metadata": {
        "colab": {
          "base_uri": "https://localhost:8080/"
        },
        "id": "mNeQt4oeArIN",
        "outputId": "51a14e0f-a046-4728-936f-42899eccd45b"
      },
      "source": [
        "# Definimos un arreglo 2-D. Pensemos en una Matriz M de 2-D.\n",
        "M = np.array([[1,2],[3,4],[5,6],[7,8]])\n",
        "print(M)"
      ],
      "execution_count": 4,
      "outputs": [
        {
          "output_type": "stream",
          "text": [
            "[[1 2]\n",
            " [3 4]\n",
            " [5 6]\n",
            " [7 8]]\n"
          ],
          "name": "stdout"
        }
      ]
    },
    {
      "cell_type": "code",
      "metadata": {
        "colab": {
          "base_uri": "https://localhost:8080/"
        },
        "id": "23Gp028hBLL6",
        "outputId": "f1452786-0fdf-4d85-c058-1dfd47c866e0"
      },
      "source": [
        "# Propiedades del arreglo anterior. \n",
        "print('Número de dimensiones:', M.ndim)\n",
        "print('Forma (shape):', M.shape)\n",
        "print('Tamaño (size):', M.size)\n"
      ],
      "execution_count": 5,
      "outputs": [
        {
          "output_type": "stream",
          "text": [
            "Número de dimensiones: 2\n",
            "Forma (shape): (4, 2)\n",
            "Tamaño (size): 8\n"
          ],
          "name": "stdout"
        }
      ]
    },
    {
      "cell_type": "code",
      "metadata": {
        "colab": {
          "base_uri": "https://localhost:8080/"
        },
        "id": "uN8GXOVJBh8o",
        "outputId": "14666938-67f3-4388-8507-84c4bfbbd97b"
      },
      "source": [
        "# Podemos seleccionar una columna 1 de la matriz M (columnas:0,1) \n",
        "col = M[:,1] \n",
        "print(col)"
      ],
      "execution_count": 8,
      "outputs": [
        {
          "output_type": "stream",
          "text": [
            "[2 4 6 8]\n"
          ],
          "name": "stdout"
        }
      ]
    },
    {
      "cell_type": "code",
      "metadata": {
        "colab": {
          "base_uri": "https://localhost:8080/"
        },
        "id": "I8OJ5lnZCQ0v",
        "outputId": "edde70b7-6c9b-4775-87d6-532192350923"
      },
      "source": [
        "# Propiedades del arreglo anterior. \n",
        "print('Número de dimensiones:', col.ndim)\n",
        "print('Forma (shape):', col.shape)\n",
        "print('Tamaño (size):', col.size)"
      ],
      "execution_count": 10,
      "outputs": [
        {
          "output_type": "stream",
          "text": [
            "Número de dimensiones: 1\n",
            "Forma (shape): (4,)\n",
            "Tamaño (size): 4\n"
          ],
          "name": "stdout"
        }
      ]
    },
    {
      "cell_type": "markdown",
      "metadata": {
        "id": "Kzwy5TmVD1Bo"
      },
      "source": [
        "Pero, si seleccionamos una columna de una matriz 2-D, estamos seleccionando uno de los vectores en un espacio 2-D. Tenemos que usar la función *.reshape()*"
      ]
    },
    {
      "cell_type": "code",
      "metadata": {
        "colab": {
          "base_uri": "https://localhost:8080/"
        },
        "id": "WXMPixIACQ8h",
        "outputId": "d64522e3-5044-43cd-e103-7cf01a91d6a0"
      },
      "source": [
        "column = col.reshape(4,1)\n",
        "print(column)"
      ],
      "execution_count": 21,
      "outputs": [
        {
          "output_type": "stream",
          "text": [
            "[[2]\n",
            " [4]\n",
            " [6]\n",
            " [8]]\n"
          ],
          "name": "stdout"
        }
      ]
    },
    {
      "cell_type": "code",
      "metadata": {
        "colab": {
          "base_uri": "https://localhost:8080/"
        },
        "id": "TSuiC8sZCSDa",
        "outputId": "8762bac1-649a-448e-e773-71edb8407920"
      },
      "source": [
        "# Propiedades del arreglo anterior. \n",
        "print('Número de dimensiones:', column.ndim)\n",
        "print('Forma (shape):', column.shape)\n",
        "print('Tamaño (size):', column.size)\n"
      ],
      "execution_count": 22,
      "outputs": [
        {
          "output_type": "stream",
          "text": [
            "Número de dimensiones: 2\n",
            "Forma (shape): (4, 1)\n",
            "Tamaño (size): 4\n"
          ],
          "name": "stdout"
        }
      ]
    },
    {
      "cell_type": "markdown",
      "metadata": {
        "id": "UgPy7PR5Itx4"
      },
      "source": [
        "Aunque la variable 'col' y 'column' tengan los mismos datos, son dos objetos distintos.\n",
        " "
      ]
    },
    {
      "cell_type": "markdown",
      "metadata": {
        "id": "KVuOxkj1JEMS"
      },
      "source": [
        "### Operación y Funciones de Matrices.\n",
        "\n",
        "**Operaciones aritméticas**\n",
        "\n",
        "Las operaciones aritméticas +, -, /, * y ** se realizan elemento a elemento. \n",
        "\n",
        "Ejemplos:\n"
      ]
    },
    {
      "cell_type": "code",
      "metadata": {
        "colab": {
          "base_uri": "https://localhost:8080/"
        },
        "id": "6t8sPW6dH68d",
        "outputId": "f1045c01-6c10-4055-d05b-2705a3db9d82"
      },
      "source": [
        "# Definimos una matriz M\n",
        "M = np.array([[1,2],[3,4]])\n",
        "print(M)\n"
      ],
      "execution_count": 23,
      "outputs": [
        {
          "output_type": "stream",
          "text": [
            "[[1 2]\n",
            " [3 4]]\n"
          ],
          "name": "stdout"
        }
      ]
    },
    {
      "cell_type": "markdown",
      "metadata": {
        "id": "aiaOHpZ_SWcU"
      },
      "source": [
        "**Multiplicación de Matrices**\n"
      ]
    },
    {
      "cell_type": "code",
      "metadata": {
        "colab": {
          "base_uri": "https://localhost:8080/"
        },
        "id": "yG2wfflKKN0Y",
        "outputId": "16f36db8-3aea-43fb-9440-ee301dcbbf0d"
      },
      "source": [
        "# Producto simple (elemento a elemento)\n",
        "M*M"
      ],
      "execution_count": 24,
      "outputs": [
        {
          "output_type": "execute_result",
          "data": {
            "text/plain": [
              "array([[ 1,  4],\n",
              "       [ 9, 16]])"
            ]
          },
          "metadata": {
            "tags": []
          },
          "execution_count": 24
        }
      ]
    },
    {
      "cell_type": "code",
      "metadata": {
        "colab": {
          "base_uri": "https://localhost:8080/"
        },
        "id": "oxeCZPuHKZJd",
        "outputId": "cd63175c-192e-48fb-e0cd-4303826336a7"
      },
      "source": [
        "# Producto matricial \n",
        "M@M "
      ],
      "execution_count": 25,
      "outputs": [
        {
          "output_type": "execute_result",
          "data": {
            "text/plain": [
              "array([[ 7, 10],\n",
              "       [15, 22]])"
            ]
          },
          "metadata": {
            "tags": []
          },
          "execution_count": 25
        }
      ]
    },
    {
      "cell_type": "code",
      "metadata": {
        "id": "IZ9GKxwvNRI3"
      },
      "source": [
        ""
      ],
      "execution_count": null,
      "outputs": []
    },
    {
      "cell_type": "markdown",
      "metadata": {
        "id": "BkOo7ZE9O0lb"
      },
      "source": [
        "**Ejercicio 1.** Defina las siguientes matrices.\n",
        "\n",
        "\\begin{equation*}\n",
        " A\n",
        " =\n",
        "  \\begin{bmatrix}\n",
        "   1 & 3 \\\\\n",
        "   -1 & 7\n",
        "   \\end{bmatrix}\n",
        "\\end{equation*}\n",
        "\n",
        "\\begin{equation*}\n",
        " B =\n",
        "  \\begin{bmatrix}\n",
        "   5 & 2 \\\\\n",
        "   1 & 2\n",
        "   \\end{bmatrix}\n",
        "\\end{equation*}\n",
        "\n",
        " y la matrix identidad \n",
        "\n",
        " \\begin{equation*}\n",
        " I = \n",
        "   \\begin{bmatrix}\n",
        "   1 & 0 \\\\\n",
        "   0 & 1\n",
        "   \\end{bmatrix}\n",
        "\\end{equation*}\n",
        "\n",
        "Calcule el resultado de $2*I+3*A+A@B$.\n",
        "\n",
        "Para definir la matriz identidad, se puede utilizar la función *np.eye(2, dtype=int)*. Ver manual de  [np.eye()](https://numpy.org/doc/stable/reference/generated/numpy.eye.html).\n",
        "\n",
        "\n"
      ]
    },
    {
      "cell_type": "markdown",
      "metadata": {
        "id": "GdwXeqd6SjXn"
      },
      "source": [
        "**Potencias de Matrices**\n",
        "\n",
        "No existe un símbolo para denotar las potencias de matrices. Por eso definimos la función 'mpow' en la 1a celda de bibliotecas.\n",
        "\n",
        "from numpy.linalg import matrix_power as mpow"
      ]
    },
    {
      "cell_type": "code",
      "metadata": {
        "colab": {
          "base_uri": "https://localhost:8080/"
        },
        "id": "x6RbBm7WSBiD",
        "outputId": "c9d6fe04-b8c4-4213-cc72-4f52af0fa069"
      },
      "source": [
        "# Teníamos una matriz M definida. \n",
        "print(M)"
      ],
      "execution_count": 27,
      "outputs": [
        {
          "output_type": "stream",
          "text": [
            "[[1 2]\n",
            " [3 4]]\n"
          ],
          "name": "stdout"
        }
      ]
    },
    {
      "cell_type": "code",
      "metadata": {
        "colab": {
          "base_uri": "https://localhost:8080/"
        },
        "id": "TFIW2FA7Te8H",
        "outputId": "2c06e3be-ae6c-4011-f863-c24404d0cdb4"
      },
      "source": [
        "# Cuadrado: M^2 = M@M\n",
        "print(M@M)\n",
        "print(mpow(M,2))"
      ],
      "execution_count": 28,
      "outputs": [
        {
          "output_type": "stream",
          "text": [
            "[[ 7 10]\n",
            " [15 22]]\n",
            "[[ 7 10]\n",
            " [15 22]]\n"
          ],
          "name": "stdout"
        }
      ]
    },
    {
      "cell_type": "code",
      "metadata": {
        "colab": {
          "base_uri": "https://localhost:8080/"
        },
        "id": "EcRNOhtbT16Y",
        "outputId": "5e1c660f-8d3d-43a1-9b51-d4ef0fd8ea8a"
      },
      "source": [
        "# Quinta potencia: M^5 = M@M@M@M@M\n",
        "print(M@M@M@M@M)\n",
        "print(mpow(M,5))"
      ],
      "execution_count": 29,
      "outputs": [
        {
          "output_type": "stream",
          "text": [
            "[[1069 1558]\n",
            " [2337 3406]]\n",
            "[[1069 1558]\n",
            " [2337 3406]]\n"
          ],
          "name": "stdout"
        }
      ]
    },
    {
      "cell_type": "markdown",
      "metadata": {
        "id": "rCf-16WvUfmt"
      },
      "source": [
        "**Matriz Transpuesta**\n",
        "$M^T$"
      ]
    },
    {
      "cell_type": "code",
      "metadata": {
        "colab": {
          "base_uri": "https://localhost:8080/"
        },
        "id": "ALQD6MnGUFt8",
        "outputId": "90d1769e-bfe9-446b-c401-df0ee64fd110"
      },
      "source": [
        "# La matriz M y su transpuesta\n",
        "print(M)\n",
        "print(M.T)\n"
      ],
      "execution_count": 30,
      "outputs": [
        {
          "output_type": "stream",
          "text": [
            "[[1 2]\n",
            " [3 4]]\n",
            "[[1 3]\n",
            " [2 4]]\n"
          ],
          "name": "stdout"
        }
      ]
    },
    {
      "cell_type": "code",
      "metadata": {
        "colab": {
          "base_uri": "https://localhost:8080/"
        },
        "id": "valagJKlU1ac",
        "outputId": "db77c198-e690-465a-f233-6d208261a50b"
      },
      "source": [
        "# El producto de M por M.T, debe ser una matriz simétrica.\n",
        "M @ M.T"
      ],
      "execution_count": 31,
      "outputs": [
        {
          "output_type": "execute_result",
          "data": {
            "text/plain": [
              "array([[ 5, 11],\n",
              "       [11, 25]])"
            ]
          },
          "metadata": {
            "tags": []
          },
          "execution_count": 31
        }
      ]
    },
    {
      "cell_type": "markdown",
      "metadata": {
        "id": "yYVen43BZS5G"
      },
      "source": [
        "**Traza de una Matriz**\n",
        "\n",
        "Suma de los elementos de la diagonal. Usaremos la función de NumPy: *np.trace*.\n"
      ]
    },
    {
      "cell_type": "code",
      "metadata": {
        "colab": {
          "base_uri": "https://localhost:8080/"
        },
        "id": "v7HPwdhKZwNO",
        "outputId": "2d64c8b8-5dba-4aae-9ae0-b017575557f4"
      },
      "source": [
        "# Traza de la matriz M.\n",
        "print(M)\n",
        "print(np.trace(M))"
      ],
      "execution_count": 34,
      "outputs": [
        {
          "output_type": "stream",
          "text": [
            "[[1 2]\n",
            " [3 4]]\n",
            "5\n"
          ],
          "name": "stdout"
        }
      ]
    },
    {
      "cell_type": "markdown",
      "metadata": {
        "id": "2qivcg_yWTky"
      },
      "source": [
        "**Determinante de una Matriz**\n",
        "\n",
        "Se utiliza la función [scipy.linalg.det](https://docs.scipy.org/doc/scipy/reference/generated/scipy.linalg.det.html#scipy.linalg.det) \n"
      ]
    },
    {
      "cell_type": "markdown",
      "metadata": {
        "id": "_0EfVIfur5O_"
      },
      "source": [
        "Para la matriz M, \n",
        "\n",
        "\\begin{equation*}\n",
        " M\n",
        " =\n",
        "  \\begin{bmatrix}\n",
        "   a & b \\\\\n",
        "   c & d\n",
        "   \\end{bmatrix}\n",
        "\\end{equation*}\n",
        "\n",
        "det(M) = $ad-bc$\n"
      ]
    },
    {
      "cell_type": "code",
      "metadata": {
        "colab": {
          "base_uri": "https://localhost:8080/"
        },
        "id": "49-CFM0QWpGt",
        "outputId": "c49f51c9-10e8-4c6d-b061-65b869a9b21f"
      },
      "source": [
        "# Determinante de la matriz M\n",
        "print(M)\n",
        "print(la.det(M))"
      ],
      "execution_count": 35,
      "outputs": [
        {
          "output_type": "stream",
          "text": [
            "[[1 2]\n",
            " [3 4]]\n",
            "-2.0\n"
          ],
          "name": "stdout"
        }
      ]
    },
    {
      "cell_type": "markdown",
      "metadata": {
        "id": "eAhdU-JJVqtN"
      },
      "source": [
        "**Matriz Inversa**\n",
        "\n",
        "Se calcula con la función [scipy.linalg.inv](https://docs.scipy.org/doc/scipy/reference/generated/scipy.linalg.inv.html#scipy.linalg.inv)\n",
        "\n",
        "**Nota:** Para invertir una Matriz, su Determinante no debe ser cero.\n",
        "\n",
        "Para una matriz $M$, la inversa $M^{-1}$\n",
        "\n",
        "\\begin{equation*}\n",
        " M\n",
        " =\n",
        "  \\begin{bmatrix}\n",
        "   a & b \\\\\n",
        "   c & d\n",
        "   \\end{bmatrix}\n",
        "\\end{equation*}\n",
        "\n",
        "\\begin{equation*}\n",
        " M^{-1}\n",
        " = \\frac{1}{\\det(M)}\n",
        "  \\begin{bmatrix}\n",
        "   d & -b \\\\\n",
        "   -c & a\n",
        "   \\end{bmatrix}\n",
        "\\end{equation*}"
      ]
    },
    {
      "cell_type": "code",
      "metadata": {
        "colab": {
          "base_uri": "https://localhost:8080/"
        },
        "id": "zd4AzBFAVWxe",
        "outputId": "c98f24be-8357-43ec-90ed-328270521935"
      },
      "source": [
        "# Matriz inversa de M\n",
        "la.inv(M)"
      ],
      "execution_count": 32,
      "outputs": [
        {
          "output_type": "execute_result",
          "data": {
            "text/plain": [
              "array([[-2. ,  1. ],\n",
              "       [ 1.5, -0.5]])"
            ]
          },
          "metadata": {
            "tags": []
          },
          "execution_count": 32
        }
      ]
    },
    {
      "cell_type": "markdown",
      "metadata": {
        "id": "S9cC2yfee-PS"
      },
      "source": [
        "**Ejercicio 2**. Los polinomios característicos y el Teorema de Cayley-Hamilton.\n",
        "\n",
        "El polinomio característico de una matriz M esta dado en general por la ecuación \n",
        "\\begin{equation}\n",
        "\\det(M - \\lambda I) = 0\n",
        "\\end{equation}\n",
        "Para una matriz cuadrada M (2x2), el polinomio característico se puede escribir como\n",
        "\\begin{equation}\n",
        "P_2 (\\lambda) = \\det{(M)} - \\mathrm{tr}(M) \\, \\lambda + \\lambda^2   \n",
        "\\end{equation}\n",
        "y para una matriz cuadrada M (3x3), el polinomio característico resulta ser\n",
        "\n",
        "\\begin{equation}\n",
        "P_3 (\\lambda) = \\frac{1}{6} \n",
        "[ \\mathrm{tr}^3 (M) + 2 \\, \\mathrm{tr }(M^3) - 3 \\, \\mathrm{tr}(M) \\mathrm{tr}(M^2) ] - \n",
        "\\frac{1}{2} [ \\mathrm{tr}^2 (M) - \\mathrm{tr}(M^2) ] \\lambda + \\mathrm{tr}(M) \\lambda^2 - \\lambda^3\n",
        "\\end{equation}\n",
        "\n",
        "[El Teorema de Cayley-Hamilton](https://en.wikipedia.org/wiki/Cayley–Hamilton_theorem) nos dice que una matriz cuadrada M (2x2), satisface el polinomio característico\n",
        "\\begin{equation}\n",
        "P_2(M) = \\det(M) - \\mathrm{tr}(M) M + M^2 \n",
        "\\end{equation}\n",
        "y en general cualquier matriz cuadrada M (nxn), satisface $P_n(M)$. \n",
        "\n",
        "Demuestre esto para cualquier matriz M (2x2),  ($\\det(M) \\neq 0$).\n"
      ]
    },
    {
      "cell_type": "markdown",
      "metadata": {
        "id": "lFCEfb_TQgac"
      },
      "source": [
        "### Resolución de Ecuaciones Lineales. \n",
        "\n",
        "Un [sistema de ecuaciones lineales](https://en.wikipedia.org/wiki/System_of_linear_equations), es una colección de (n+1) ecuaciones de (n+1) variables de la forma:\n",
        "\n",
        "\\begin{align*}\n",
        " a_{0,0} x_0 + a_{0,1} x_1 + \\cdots + a_{0,n} x_n & = b_0 \\\\\n",
        " a_{1,0} x_0 + a_{1,1} x_1 + \\cdots + a_{1,n} x_n & = b_1 \\\\\n",
        "\\vdots &  =  \\vdots \\\\\n",
        " a_{n,0} x_0 + a_{n,1} x_1 + \\cdots + a_{n,n} x_n & = b_n \\\\\n",
        "\\end{align*}\n",
        "\n",
        "El cual se puede escribir de forma matricial\n",
        "\n",
        "\\begin{equation*}\n",
        "A x = b\n",
        "\\end{equation*}\n",
        "\n",
        "donde A es la matriz cuadrada (n+1 x n+1)\n",
        "\n",
        "\\begin{equation*}\n",
        "A = \n",
        "\\begin{bmatrix}\n",
        "a_{0,0} & a_{0,1} & \\cdots & a_{0,n} \\\\\n",
        "a_{1,0} & a_{1,1} & \\cdots & a_{1,n} \\\\\n",
        " \\vdots & \\vdots & \\cdots & \\vdots \\\\\n",
        "a_{n,0} & a_{n,1} & \\cdots & a_{n,n} \\\\\n",
        "\\end{bmatrix}\n",
        "\\end{equation*}\n",
        "\n",
        "El vector $x$ es un vector desconocido de (n+1) dimensiones, y $b$ un vector constante conocido de (n+1) dimensiones.\n",
        "\n",
        "\\begin{equation*}\n",
        "x  =  \\begin{bmatrix} \n",
        "x_0 \\\\\n",
        "x_1 \\\\ \n",
        "\\vdots \\\\\n",
        "x_n \\\\\n",
        "\\end{bmatrix} \n",
        "\\end{equation*},\n",
        "\n",
        "\\begin{equation*} \n",
        "b = \n",
        "\\begin{bmatrix}\n",
        " b_0 \\\\\n",
        " b_1 \\\\\n",
        "\\vdots \\\\\n",
        " b_n \\\\\n",
        " \\end{bmatrix}\n",
        "\\end{equation*}\n",
        "\n",
        "Buscamos la solución \n",
        "\\begin{equation*}\n",
        "x = A^{-1} b \n",
        "\\end{equation*}\n"
      ]
    },
    {
      "cell_type": "markdown",
      "metadata": {
        "id": "uuzygSGFTMyg"
      },
      "source": [
        "### Método de Eliminación Gaussiana.\n",
        "\n",
        "El [método de eliminación Gaussiana](https://en.wikipedia.org/wiki/Gaussian_elimination) es un método para resolver un sistema de ecuaciones lineales. \n",
        "Este método involucra 3 tipos de operaciones elementales:\n",
        "\n",
        "\n",
        "*   Intercambio de posición de renglones.\n",
        "*   Multiplicar un renglón por una constante no nula. \n",
        "*   Sumar un múltiplo de un reglon a otro renglón.\n",
        "\n",
        "Usando este conjunto de operaciones es posible convertir una matriz en una matriz triangular superior o matriz en forma escalonada.\n",
        "\n",
        "**Ejemplo**:\n",
        "\n",
        "$L_1$, $L_2$ y $L_3$ denotan los renglones de la matriz.\n"
      ]
    },
    {
      "cell_type": "markdown",
      "metadata": {
        "id": "pEcGngUpbTc0"
      },
      "source": [
        "![GaussElim1.png](data:image/png;base64,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)"
      ]
    },
    {
      "cell_type": "markdown",
      "metadata": {
        "id": "EQVMl6t7bYj6"
      },
      "source": [
        "![GaussElim2.png](data:image/png;base64,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)"
      ]
    },
    {
      "cell_type": "code",
      "metadata": {
        "id": "lvjeIrz3WKC5"
      },
      "source": [
        "# Implementación del método de eliminación Gaussiana\n",
        "# Definimos 3 funciones \n",
        "\n",
        "# Intercambio de posición de renglones.\n",
        "def switch_rows(A,i,j):\n",
        "    \"Intercambiar renglones i y j en la matriz A.\"\n",
        "    n = A.shape[0]\n",
        "    E = np.eye(n)\n",
        "    E[i,i] = 0\n",
        "    E[j,j] = 0\n",
        "    E[i,j] = 1\n",
        "    E[j,i] = 1\n",
        "    return E @ A\n",
        "\n",
        "# Multiplicar un renglón por una constante no nula.\n",
        "def scale_row(A,k,i):\n",
        "    \"Multiplicar el renglón i por k en la matriz A.\"\n",
        "    n = A.shape[0]\n",
        "    E = np.eye(n)\n",
        "    E[i,i] = k\n",
        "    return E @ A\n",
        "\n",
        "# Sumar un múltiplo de un reglon a otro renglón.\n",
        "def add_row(A,k,i,j):\n",
        "    \"Sumar k veces el renglón j al renglón i en la matriz A.\"\n",
        "    n = A.shape[0]\n",
        "    E = np.eye(n)\n",
        "    if i == j:\n",
        "        E[i,i] = k + 1\n",
        "    else:\n",
        "        E[i,j] = k\n",
        "    return E @ A\n",
        "\n",
        "\n"
      ],
      "execution_count": 2,
      "outputs": []
    },
    {
      "cell_type": "code",
      "metadata": {
        "colab": {
          "base_uri": "https://localhost:8080/"
        },
        "id": "t_2biqy3-BGZ",
        "outputId": "f75721f6-5a75-4da1-8127-7d3826a0ebb0"
      },
      "source": [
        "B = np.array([[1,2], [3,4]])\n",
        "print(B)"
      ],
      "execution_count": 4,
      "outputs": [
        {
          "output_type": "stream",
          "text": [
            "[[1 2]\n",
            " [3 4]]\n"
          ],
          "name": "stdout"
        }
      ]
    },
    {
      "cell_type": "code",
      "metadata": {
        "colab": {
          "base_uri": "https://localhost:8080/"
        },
        "id": "0fNMWF-Z-CIw",
        "outputId": "6faea33b-c09f-422f-efb3-30150774240f"
      },
      "source": [
        "print(switch_rows(B,0,1))"
      ],
      "execution_count": 5,
      "outputs": [
        {
          "output_type": "stream",
          "text": [
            "[[3. 4.]\n",
            " [1. 2.]]\n"
          ],
          "name": "stdout"
        }
      ]
    },
    {
      "cell_type": "code",
      "metadata": {
        "colab": {
          "base_uri": "https://localhost:8080/"
        },
        "id": "sXkHLucX-C0-",
        "outputId": "4bd4ebf8-2e58-429a-9163-31b2c4ae9acd"
      },
      "source": [
        "print(scale_row(B, 5, 0))"
      ],
      "execution_count": 6,
      "outputs": [
        {
          "output_type": "stream",
          "text": [
            "[[ 5. 10.]\n",
            " [ 3.  4.]]\n"
          ],
          "name": "stdout"
        }
      ]
    },
    {
      "cell_type": "code",
      "metadata": {
        "colab": {
          "base_uri": "https://localhost:8080/"
        },
        "id": "cWiDCFwS-0TX",
        "outputId": "e30a36a7-b7ab-475c-8de0-0719002cdc47"
      },
      "source": [
        "print(add_row(B, 5, 1, 0))"
      ],
      "execution_count": 7,
      "outputs": [
        {
          "output_type": "stream",
          "text": [
            "[[ 1.  2.]\n",
            " [ 8. 14.]]\n"
          ],
          "name": "stdout"
        }
      ]
    },
    {
      "cell_type": "markdown",
      "metadata": {
        "id": "Eh5IC7_wf7im"
      },
      "source": [
        "### Ejemplos\n",
        "Encontrar la matriz inversa de M.\n",
        "\n",
        "(Trabajaremos con la matriz aumentada: |M|I|)\n",
        "\n"
      ]
    },
    {
      "cell_type": "code",
      "metadata": {
        "colab": {
          "base_uri": "https://localhost:8080/"
        },
        "id": "pDleNydSevhw",
        "outputId": "2c1009a9-f3cd-4ac7-ce5c-c9e46ac2dbb9"
      },
      "source": [
        "M = np.array([[2,1,-1],[-3,-1,2],[-2,1,2]])\n",
        "print(M)\n",
        "print('det(M) = ', la.det(M))\n"
      ],
      "execution_count": 9,
      "outputs": [
        {
          "output_type": "stream",
          "text": [
            "[[ 2  1 -1]\n",
            " [-3 -1  2]\n",
            " [-2  1  2]]\n",
            "det(M) =  -1.0\n"
          ],
          "name": "stdout"
        }
      ]
    },
    {
      "cell_type": "code",
      "metadata": {
        "colab": {
          "base_uri": "https://localhost:8080/"
        },
        "id": "fzgkBxzgggWW",
        "outputId": "b263ec5e-51cf-469c-95f7-b0f6307f5759"
      },
      "source": [
        "# Matriz aumentada: Unimos la matriz M con la matriz Identidad \n",
        "A = np.hstack([M,np.eye(3)])\n",
        "print(A)\n"
      ],
      "execution_count": 10,
      "outputs": [
        {
          "output_type": "stream",
          "text": [
            "[[ 2.  1. -1.  1.  0.  0.]\n",
            " [-3. -1.  2.  0.  1.  0.]\n",
            " [-2.  1.  2.  0.  0.  1.]]\n"
          ],
          "name": "stdout"
        }
      ]
    },
    {
      "cell_type": "code",
      "metadata": {
        "colab": {
          "base_uri": "https://localhost:8080/"
        },
        "id": "WpiDLAIkg_S0",
        "outputId": "37287628-12e0-433f-9e14-50c79d1c0ec6"
      },
      "source": [
        "# \"Sumar k veces el renglón j al renglón i en la matriz A.\"\n",
        "# add_row(A,k,i,j):\n",
        "# 1) L2 + 3/2 L1 ->  L2; \n",
        "#    L3+L1 -> L3\n",
        "A1_tmp = add_row(A,3/2,1,0)\n",
        "A1 = add_row(A1_tmp,1,2,0)\n",
        "print(A1)\n"
      ],
      "execution_count": 11,
      "outputs": [
        {
          "output_type": "stream",
          "text": [
            "[[ 2.   1.  -1.   1.   0.   0. ]\n",
            " [ 0.   0.5  0.5  1.5  1.   0. ]\n",
            " [ 0.   2.   1.   1.   0.   1. ]]\n"
          ],
          "name": "stdout"
        }
      ]
    },
    {
      "cell_type": "code",
      "metadata": {
        "colab": {
          "base_uri": "https://localhost:8080/"
        },
        "id": "nfKXUO43jm-i",
        "outputId": "770ac1a8-992c-466e-c7a6-83797e726a8a"
      },
      "source": [
        "# 2) L3 + -4L2 -> L3\n",
        "A2 = add_row(A1, -4,2,1)\n",
        "print(A2)\n"
      ],
      "execution_count": 12,
      "outputs": [
        {
          "output_type": "stream",
          "text": [
            "[[ 2.   1.  -1.   1.   0.   0. ]\n",
            " [ 0.   0.5  0.5  1.5  1.   0. ]\n",
            " [ 0.   0.  -1.  -5.  -4.   1. ]]\n"
          ],
          "name": "stdout"
        }
      ]
    },
    {
      "cell_type": "code",
      "metadata": {
        "colab": {
          "base_uri": "https://localhost:8080/"
        },
        "id": "yVL1hLo6lSIz",
        "outputId": "8cac3e82-8a4d-4603-c7f7-690156b76cf0"
      },
      "source": [
        "# 3) L2 + 1/2 L3 -> L2\n",
        "#    L1-L3 -> L1\n",
        "A3_tmp = add_row(A2, 1/2, 1, 2)\n",
        "A3 = add_row(A3_tmp, -1,0,2)\n",
        "print(A3)\n"
      ],
      "execution_count": 13,
      "outputs": [
        {
          "output_type": "stream",
          "text": [
            "[[ 2.   1.   0.   6.   4.  -1. ]\n",
            " [ 0.   0.5  0.  -1.  -1.   0.5]\n",
            " [ 0.   0.  -1.  -5.  -4.   1. ]]\n"
          ],
          "name": "stdout"
        }
      ]
    },
    {
      "cell_type": "code",
      "metadata": {
        "colab": {
          "base_uri": "https://localhost:8080/"
        },
        "id": "p5uB0PIBmmYJ",
        "outputId": "a06c8aae-bbf8-4181-a0af-56ca102fa87c"
      },
      "source": [
        "# 4) 2L2 -> L2\n",
        "#    -L3 -> L3\n",
        "A4_tmp = scale_row(A3,2,1)\n",
        "A4 = scale_row(A4_tmp, -1, 2)\n",
        "print(A4)\n",
        " "
      ],
      "execution_count": 14,
      "outputs": [
        {
          "output_type": "stream",
          "text": [
            "[[ 2.  1.  0.  6.  4. -1.]\n",
            " [ 0.  1.  0. -2. -2.  1.]\n",
            " [ 0.  0.  1.  5.  4. -1.]]\n"
          ],
          "name": "stdout"
        }
      ]
    },
    {
      "cell_type": "code",
      "metadata": {
        "colab": {
          "base_uri": "https://localhost:8080/"
        },
        "id": "4eu-AZ1poDIu",
        "outputId": "00de2a84-661f-46f6-9ebf-dccb1922a6d9"
      },
      "source": [
        "# 5) L1 - L2 -> L1\n",
        "#    1/2 L1 -> L1\n",
        "A5_tmp = add_row(A4,-1,0,1)\n",
        "A5 = scale_row(A5_tmp,1/2,0)\n",
        "print(A5)\n"
      ],
      "execution_count": 15,
      "outputs": [
        {
          "output_type": "stream",
          "text": [
            "[[ 1.  0.  0.  4.  3. -1.]\n",
            " [ 0.  1.  0. -2. -2.  1.]\n",
            " [ 0.  0.  1.  5.  4. -1.]]\n"
          ],
          "name": "stdout"
        }
      ]
    },
    {
      "cell_type": "code",
      "metadata": {
        "colab": {
          "base_uri": "https://localhost:8080/"
        },
        "id": "OhRM_Q2YpAjX",
        "outputId": "0030bc39-73b9-475b-c032-45108aa3bef8"
      },
      "source": [
        "# Hemos obtenido la inversa\n",
        "M_inv = A5[:,3:]\n",
        "print(M_inv)\n"
      ],
      "execution_count": 17,
      "outputs": [
        {
          "output_type": "stream",
          "text": [
            "[[ 4.  3. -1.]\n",
            " [-2. -2.  1.]\n",
            " [ 5.  4. -1.]]\n"
          ],
          "name": "stdout"
        }
      ]
    },
    {
      "cell_type": "code",
      "metadata": {
        "colab": {
          "base_uri": "https://localhost:8080/"
        },
        "id": "jQvllltbp39q",
        "outputId": "e44c8af1-0bc3-4536-b7bd-5499a26e757e"
      },
      "source": [
        "# El producto de M_inv @ M = I \n",
        "result = M_inv @ M\n",
        "print(result)\n"
      ],
      "execution_count": 18,
      "outputs": [
        {
          "output_type": "stream",
          "text": [
            "[[1. 0. 0.]\n",
            " [0. 1. 0.]\n",
            " [0. 0. 1.]]\n"
          ],
          "name": "stdout"
        }
      ]
    },
    {
      "cell_type": "code",
      "metadata": {
        "colab": {
          "base_uri": "https://localhost:8080/"
        },
        "id": "97cfcDyFqI3c",
        "outputId": "b66d8c50-1227-4f5e-ba76-3e02940af2c4"
      },
      "source": [
        "# Checamos la inversa de M con la función 'la.inv(M)'\n",
        "la.inv(M)\n"
      ],
      "execution_count": 26,
      "outputs": [
        {
          "output_type": "execute_result",
          "data": {
            "text/plain": [
              "array([[ 4.,  3., -1.],\n",
              "       [-2., -2.,  1.],\n",
              "       [ 5.,  4., -1.]])"
            ]
          },
          "metadata": {
            "tags": []
          },
          "execution_count": 26
        }
      ]
    },
    {
      "cell_type": "markdown",
      "metadata": {
        "id": "SeYr5S6dqkkm"
      },
      "source": [
        "Ejemplo: Resolviendo la ecuación Mx=b\n",
        "\n",
        "en este caso b esta dado por:\n",
        "\n",
        "\\begin{equation*}\n",
        "b = \n",
        "\\begin{bmatrix}\n",
        "8 \\\\\n",
        "-11 \\\\\n",
        "-3 \\\\\n",
        "\\end{bmatrix}\n",
        "\\end{equation*}\n",
        "\n",
        "La solución es $x = M^{-1} M x = M^{-1} b$\n"
      ]
    },
    {
      "cell_type": "code",
      "metadata": {
        "colab": {
          "base_uri": "https://localhost:8080/"
        },
        "id": "mhN5hm1zsQC-",
        "outputId": "bb223660-92bc-4e39-a104-a747daed7a60"
      },
      "source": [
        "# definimos b. Recordemos que tenemos que usar la función .reshape()\n",
        "b = np.array([8,-11,-3]).reshape(3,1)\n",
        "print(b)"
      ],
      "execution_count": 32,
      "outputs": [
        {
          "output_type": "stream",
          "text": [
            "[[  8]\n",
            " [-11]\n",
            " [ -3]]\n"
          ],
          "name": "stdout"
        }
      ]
    },
    {
      "cell_type": "code",
      "metadata": {
        "colab": {
          "base_uri": "https://localhost:8080/"
        },
        "id": "KgxC1mY8qUPc",
        "outputId": "523959b6-014c-4a18-ea0b-fae9a940ae9f"
      },
      "source": [
        "# La solución es:\n",
        "x = M_inv @ b \n",
        "print(x) \n"
      ],
      "execution_count": 33,
      "outputs": [
        {
          "output_type": "stream",
          "text": [
            "[[ 2.]\n",
            " [ 3.]\n",
            " [-1.]]\n"
          ],
          "name": "stdout"
        }
      ]
    },
    {
      "cell_type": "markdown",
      "metadata": {
        "id": "mIqC0zgCtaPh"
      },
      "source": [
        "### Función scipy.linalg.solve()\n",
        "\n",
        "Podemos usar la función solve() de scipy.linalg\n"
      ]
    },
    {
      "cell_type": "code",
      "metadata": {
        "colab": {
          "base_uri": "https://localhost:8080/"
        },
        "id": "To-V4y17sKjn",
        "outputId": "a5a6e3fe-ac4d-41e9-c0d5-52783e3aa1bc"
      },
      "source": [
        "# Resolviendo el sistema de ecuaciones usando scipy.linalg.solve\n",
        "x_sol = la.solve(M, b)\n",
        "print(x_sol)\n"
      ],
      "execution_count": 35,
      "outputs": [
        {
          "output_type": "stream",
          "text": [
            "[[ 2.]\n",
            " [ 3.]\n",
            " [-1.]]\n"
          ],
          "name": "stdout"
        }
      ]
    },
    {
      "cell_type": "markdown",
      "metadata": {
        "id": "3RMARx4QwYGn"
      },
      "source": [
        "**Ejercicio 3:**\n",
        "\n",
        "Resuelva el sistema de ecuaciones.\n",
        "\n",
        "\\begin{eqnarray*}\n",
        "x - 3 y + z & = & 1 \\\\ \\nonumber\n",
        "3 x - 4y + z & = & 5 \\\\ \\nonumber\n",
        "2 y - z & = & 0 \\\\ \\nonumber\n",
        "\\end{eqnarray*}\n",
        "\n",
        "de dos formas, utilizando el Método de Eliminación Gaussiana y la utilzando la función scipy.linalg.solve()\n"
      ]
    },
    {
      "cell_type": "markdown",
      "metadata": {
        "id": "JJ0iEA66NYLe"
      },
      "source": [
        "## Eigenvalores y eigenvectores.\n",
        "\n",
        "En Álgebra Lineal, un eigenvector $\\vec{x}$ (o vector propio), es un vector que cuando se le aplica una transformación lineal $A$, a lo más cambia en escala $\\lambda$, pero no en dirección. A $\\lambda$ se le conoce como eigenvalor (o valor propio). \n",
        "\\begin{equation}\n",
        "A \\vec{x} = \\lambda \\vec{x} \n",
        "\\end{equation}\n",
        "La transformación lineal $A$ es representada por una matriz cuadrada $n \\times n$ en un espacio vectorial de $n$ dimensiones, el vector $\\vec{x}$ es un vector de $n \\times 1$ dimensiones.\n"
      ]
    },
    {
      "cell_type": "markdown",
      "metadata": {
        "id": "U585-CRNT7mx"
      },
      "source": [
        "![Eigenvalue_equation.png](data:image/png;base64,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)"
      ]
    },
    {
      "cell_type": "markdown",
      "metadata": {
        "id": "49OvWqjpUHQ6"
      },
      "source": [
        "La ecuación anterior puede escribir como \n",
        "\\begin{equation*}\n",
        "(A - \\lambda I)\\vec{x} = \\vec{0}\n",
        "\\end{equation*}\n",
        "Donde $I$ es la matriz identidad $n \\times n$, y $\\vec{0}$ es la matriz cero de $n \\times 1$ dimensiones, al igual que $\\vec{x}$.\n",
        "\n",
        "Esta última ecuación que $(A - \\lambda I)\\vec{x} = 0$, tiene solución para cualquier $\\vec{x}$, sí y sólo si $det(A - \\lambda I) = 0$.\n",
        "\n",
        "Los eigenvalores $\\lambda$ deben entonces satisfacer la ecuación o también llamado polinomio característico\n",
        "\\begin{equation*}\n",
        "|A - \\lambda I| = (\\lambda_1 - \\lambda) (\\lambda_2 - \\lambda) \\cdots (\\lambda_n - \\lambda) \n",
        "\\end{equation*}\n",
        "donde $\\lambda_1, \\lambda_2, \\ldots , \\lambda_n$ son los eigenvalores de A y raíces del polinomio característico. Las raíces del polinomio pueden ser reales o complejas (pueden ser distintas o haber multiplicidad en ellas). \n",
        "\n",
        "### scipy.linalg.eig\n",
        "\n",
        "La biblioteca scipy.linalg.eig regresa los eigenvectores y eigenvalores de una matriz cuadrada A.\n"
      ]
    },
    {
      "cell_type": "code",
      "metadata": {
        "colab": {
          "base_uri": "https://localhost:8080/"
        },
        "id": "Y2VGKhyVuRCG",
        "outputId": "7591f344-daf7-4023-b0e8-7fdf286e3aec"
      },
      "source": [
        "# Ejemplo una matriz 2x2\n",
        "A = np.array([[2,1],[1,2]])\n",
        "print(A)"
      ],
      "execution_count": 3,
      "outputs": [
        {
          "output_type": "stream",
          "text": [
            "[[2 1]\n",
            " [1 2]]\n"
          ],
          "name": "stdout"
        }
      ]
    },
    {
      "cell_type": "markdown",
      "metadata": {
        "id": "OrxVUuQdgKZU"
      },
      "source": [
        "Para la matriz A\n",
        "\n",
        "\\begin{equation*}\n",
        "A = \n",
        "\\begin{bmatrix}\n",
        "2 & 1 \\\\\n",
        "1 & 2 \\\\\n",
        "\\end{bmatrix}\n",
        "\\end{equation*}\n",
        "\n",
        "\\begin{equation*}\n",
        " \\det(A - \\lambda I) = \n",
        " \\begin{bmatrix}\n",
        "2 - \\lambda & 1 \\\\\n",
        "1 & 2 - \\lambda \\\\\n",
        " \\end{bmatrix} = (2  - \\lambda)^2 - 1 =  3 - 4 \\lambda + \\lambda^2 = 0 \n",
        "\\end{equation*}\n",
        "Cuyas soluciones son $\\lambda_1=3$ y $\\lambda_2=1$.\n",
        "\n",
        "Para $\\lambda_1=3$, la ecuación característica es\n",
        "\\begin{equation*}\n",
        "(A - 3I)v_1 = \\begin{bmatrix}\n",
        "-1 & 1 \\\\\n",
        "1 & -1 \\\\\n",
        "\\end{bmatrix} \\begin{bmatrix}\n",
        "v_{11} \\\\\n",
        "v_{12} \\\\\n",
        "\\end{bmatrix} = \n",
        "\\begin{bmatrix}\n",
        "0 \\\\\n",
        "0 \\\\\n",
        "\\end{bmatrix}\n",
        "\\end{equation*}\n",
        "de donde vemos que\n",
        "\\begin{equation*}\n",
        "-v_{11} + v_{12} = 0 \\qquad \\mathrm{ó} \\qquad v_{11} = v_{12}\n",
        "\\end{equation*}\n",
        "\n",
        "Entonces el eigenvector $v_1$ puede ser cualquier vector múltiplo de \n",
        "\n",
        "\\begin{equation*}\n",
        "v_1 = c_1 \n",
        "\\begin{bmatrix}\n",
        "1 \\\\\n",
        "1 \\\\\n",
        "\\end{bmatrix}\n",
        "\\end{equation*}\n",
        "\n",
        "Para $\\lambda_2=1$, la ecuación característica es\n",
        "\\begin{equation*}\n",
        "(A - I)v_2 = \\begin{bmatrix}\n",
        "1 & 1 \\\\\n",
        "1 & 1 \\\\\n",
        "\\end{bmatrix} \\begin{bmatrix}\n",
        "v_{21} \\\\\n",
        "v_{22} \\\\\n",
        "\\end{bmatrix} = \n",
        "\\begin{bmatrix}\n",
        "0 \\\\\n",
        "0 \\\\\n",
        "\\end{bmatrix}\n",
        "\\end{equation*}\n",
        "de donde vemos que\n",
        "\\begin{equation*}\n",
        "v_{21} + v_{22} = 0 \\qquad \\mathrm{ó} \\qquad v_{21} = - v_{22}\n",
        "\\end{equation*}\n",
        "\n",
        "Entonces el eigenvector $v_2$ puede ser cualquier vector múltiplo de  \n",
        "\n",
        "\\begin{equation*}\n",
        "v_2 = c_2  \n",
        "\\begin{bmatrix}\n",
        "1 \\\\\n",
        "- 1 \\\\\n",
        "\\end{bmatrix}\n",
        "\\end{equation*}\n",
        "\n",
        "\n",
        "\n",
        "(Puedes apoyarte descargando [wxmaxima](https://wxmaxima-developers.github.io/wxmaxima/download.html) o usar la calculadora en línea [Wolfram Alpha](https://www.wolframalpha.com))"
      ]
    },
    {
      "cell_type": "code",
      "metadata": {
        "colab": {
          "base_uri": "https://localhost:8080/"
        },
        "id": "SNIYIm1YbWD5",
        "outputId": "18148294-4a88-4030-b15e-57bb7db7b85e"
      },
      "source": [
        "# Aplicamos la biblioteca scipy.linalg.eig()\n",
        "eigvals, eigvecs = la.eig(A)\n",
        "print('Eigenvalores:', eigvals)\n",
        "print('Eigenvectores:', eigvecs)"
      ],
      "execution_count": 9,
      "outputs": [
        {
          "output_type": "stream",
          "text": [
            "Eigenvalores: [3.+0.j 1.+0.j]\n",
            "Eigenvectores: [[ 0.70710678 -0.70710678]\n",
            " [ 0.70710678  0.70710678]]\n"
          ],
          "name": "stdout"
        }
      ]
    },
    {
      "cell_type": "markdown",
      "metadata": {
        "id": "enwYejNZk8kb"
      },
      "source": [
        "Entonces los eigenvalores son $\\lambda_1 = 3$ y $\\lambda_2=1$ (ambos reales)\n",
        "y los eigenvectores correspondientes:\n",
        "$x_1=\\sqrt(2)/2 \\ v_1$ y $x_2=\\sqrt(2)/2 \\ v_2$\n"
      ]
    },
    {
      "cell_type": "code",
      "metadata": {
        "colab": {
          "base_uri": "https://localhost:8080/"
        },
        "id": "28-uUNUMrdQG",
        "outputId": "734f72ba-39d2-4113-a070-63a6c1c833e5"
      },
      "source": [
        "# Los eigenvectores son linealmente independientes\n",
        "v1 = eigvecs[:,0]\n",
        "v2 = eigvecs[:,1]\n",
        "print('v1=',v1)\n",
        "print('v2=',v2)"
      ],
      "execution_count": 14,
      "outputs": [
        {
          "output_type": "stream",
          "text": [
            "v1= [0.70710678 0.70710678]\n",
            "v2= [-0.70710678  0.70710678]\n"
          ],
          "name": "stdout"
        }
      ]
    },
    {
      "cell_type": "code",
      "metadata": {
        "colab": {
          "base_uri": "https://localhost:8080/"
        },
        "id": "sGbo-1fK3SUI",
        "outputId": "ee43ffd0-982c-42f1-8762-9368f5aa49ec"
      },
      "source": [
        "# Calculamos el producto matricial y el producto punto de 2 vectores (linealmente independientes)\n",
        "print('Producto matricial:',v1@v2)\n",
        "print('Producto escalar:', np.dot(v1,v2.T))"
      ],
      "execution_count": 17,
      "outputs": [
        {
          "output_type": "stream",
          "text": [
            "Producto matricial: 2.2371143170757382e-17\n",
            "Producto escalar: 2.2371143170757382e-17\n"
          ],
          "name": "stdout"
        }
      ]
    },
    {
      "cell_type": "markdown",
      "metadata": {
        "id": "zwsW2olN5A0S"
      },
      "source": [
        "Un resultado interesante del Álgebra Lineal postula que una matriz cuadrada M (nxn) es diagonalizable si y sólo si tiene n eigenvalores distintos o eigenvectores independientes. \n",
        "\n",
        "Se puede escribir M como el producto\n",
        "\\begin{equation*}\n",
        "M = P D P^{-1}\n",
        "\\end{equation*}\n",
        "donde $D$ es la matriz diagonal de los eigenvalores y $P$ es la matriz formada por los eigenvectores. "
      ]
    },
    {
      "cell_type": "code",
      "metadata": {
        "colab": {
          "base_uri": "https://localhost:8080/"
        },
        "id": "ui4W7ugk3V5x",
        "outputId": "3027b6d0-07f0-45f2-a574-23c90e3035c5"
      },
      "source": [
        "# Formamos la matriz de los eigenvectores\n",
        "P = np.array([[1,1],[1,-1]])\n",
        "print(P)"
      ],
      "execution_count": 18,
      "outputs": [
        {
          "output_type": "stream",
          "text": [
            "[[ 1  1]\n",
            " [ 1 -1]]\n"
          ],
          "name": "stdout"
        }
      ]
    },
    {
      "cell_type": "code",
      "metadata": {
        "colab": {
          "base_uri": "https://localhost:8080/"
        },
        "id": "NUaqPi4n6Uc5",
        "outputId": "fe1e9b55-e80c-4376-c2c3-12189ba62e8e"
      },
      "source": [
        "# La matriz de los eigenvalores en la diagonal la definimos con\n",
        "D = np.diag((3,1))\n",
        "print(D)\n"
      ],
      "execution_count": 19,
      "outputs": [
        {
          "output_type": "stream",
          "text": [
            "[[3 0]\n",
            " [0 1]]\n"
          ],
          "name": "stdout"
        }
      ]
    },
    {
      "cell_type": "code",
      "metadata": {
        "colab": {
          "base_uri": "https://localhost:8080/"
        },
        "id": "146c2bOK6dtL",
        "outputId": "b1e03f60-aab7-495e-b368-641547279c8f"
      },
      "source": [
        "# Calculamos M = P D P^{-1}\n",
        "# Veremos que es la matriz A\n",
        "\n",
        "M = P @ D @ la.inv(P)\n",
        "print(M)\n"
      ],
      "execution_count": 20,
      "outputs": [
        {
          "output_type": "stream",
          "text": [
            "[[2. 1.]\n",
            " [1. 2.]]\n"
          ],
          "name": "stdout"
        }
      ]
    },
    {
      "cell_type": "markdown",
      "metadata": {
        "id": "zt_G9LFg7Smu"
      },
      "source": [
        "### Potencias de una matriz $M^k$\n",
        "\n",
        "Si M es una matriz cuadrada, $M^k = M \\cdot M \\cdot M \\cdots M$ (k-veces) puede resultar muy intenso computacionalmente.\n",
        "\n",
        "Si M es diagonalizable, entonces\n",
        "\\begin{equation*}\n",
        "M^k = P D P^{-1} \\cdot P D P^{-1} \\cdot P D P^{-1} \\cdots P D P^{-1} = P D^k P^{-1}\n",
        "\\end{equation*}\n",
        "\n",
        "Veamos un ejemplo de calcular la potencia $k=25$ de $M$, $M^{25}$ y mediremos el tiempo de cálculo.\n"
      ]
    },
    {
      "cell_type": "code",
      "metadata": {
        "colab": {
          "base_uri": "https://localhost:8080/"
        },
        "id": "x_kK0WQZ7DpQ",
        "outputId": "45f0f40b-bc48-4bf9-d672-1b95aee60222"
      },
      "source": [
        "# Calculamos la potencia k=25\n",
        "k=25\n",
        "P_inv = la.inv(P)\n",
        "\n",
        "print('La matriz de eigenvectores:',P)\n",
        "print('La matriz inversa de P: ', P_inv)\n"
      ],
      "execution_count": 22,
      "outputs": [
        {
          "output_type": "stream",
          "text": [
            "La matriz de eigenvectores: [[ 1  1]\n",
            " [ 1 -1]]\n",
            "La matriz inversa de P:  [[ 0.5  0.5]\n",
            " [ 0.5 -0.5]]\n"
          ],
          "name": "stdout"
        }
      ]
    },
    {
      "cell_type": "code",
      "metadata": {
        "colab": {
          "base_uri": "https://localhost:8080/"
        },
        "id": "b-0Teciv9x10",
        "outputId": "52893ef3-8c1e-468a-a713-0ff7b432e0ae"
      },
      "source": [
        "# La multilicación de M consigo misma k=25 veces\n",
        "# Calculamos el tiempo de cómputo.\n",
        "%%timeit\n",
        "result = M.copy()\n",
        "for _ in range(1,k):\n",
        "    result = result @ M"
      ],
      "execution_count": 23,
      "outputs": [
        {
          "output_type": "stream",
          "text": [
            "The slowest run took 28.18 times longer than the fastest. This could mean that an intermediate result is being cached.\n",
            "10000 loops, best of 5: 33.9 µs per loop\n"
          ],
          "name": "stdout"
        }
      ]
    },
    {
      "cell_type": "code",
      "metadata": {
        "colab": {
          "base_uri": "https://localhost:8080/"
        },
        "id": "635GLryB-JZ7",
        "outputId": "025920f6-9937-4ee6-bc8e-4c85eda42475"
      },
      "source": [
        "# Ahora calculamos usando la propiedad de diagonalización de M\n",
        "# Calculamos el tiempo de la operación\n",
        "%%timeit\n",
        "P @ D**k @ P_inv"
      ],
      "execution_count": 25,
      "outputs": [
        {
          "output_type": "stream",
          "text": [
            "The slowest run took 107.72 times longer than the fastest. This could mean that an intermediate result is being cached.\n",
            "100000 loops, best of 5: 4.57 µs per loop\n"
          ],
          "name": "stdout"
        }
      ]
    },
    {
      "cell_type": "markdown",
      "metadata": {
        "id": "uYCz72sS-x6K"
      },
      "source": [
        "**Ejercicio 4:** \n",
        "\n",
        "Dadas las siguientes matrices $B_1, B_2$ y $B_3$\n",
        "\n",
        "(Ejemplos del artículo de Wikipedia sobre [Eigenvalores y Eigenvectores](https://en.wikipedia.org/wiki/Eigenvalues_and_eigenvectors#Matrix_examples)) \n",
        "\n",
        "\n",
        "\\begin{equation*}\n",
        "B_1 = \\begin{bmatrix}\n",
        "2 & 0 & 0 \\\\\n",
        "0 & 3 & 4 \\\\\n",
        "0 & 4 & 9 \\\\\n",
        "\\end{bmatrix}\n",
        "\\end{equation*}\n",
        "\n",
        "\\begin{equation*}\n",
        "B_2 = \\begin{bmatrix}\n",
        "0 & 1 & 0 \\\\\n",
        "0 & 0 & 1 \\\\\n",
        "1 & 0 & 0 \\\\\n",
        "\\end{bmatrix}\n",
        "\\end{equation*}\n",
        "\n",
        "\\begin{equation*}\n",
        "B_3 = \\begin{bmatrix}\n",
        "2 & 0 & 0 & 0\\\\\n",
        "1 & 2 & 0 & 0 \\\\\n",
        "0 & 1 & 3 & 0 \\\\\n",
        "0 & 0 & 1 & 3 \\\\\n",
        "\\end{bmatrix}\n",
        "\\end{equation*}\n",
        "\n",
        "Encuentra los eigenvalores y eigenvectores de cada matriz utilizando la función de *scipy.linalg.eig()*, y contrasta tus resultados en cada caso con los que se desarrollan en los ejemplos de la Wikipedia. "
      ]
    },
    {
      "cell_type": "markdown",
      "metadata": {
        "id": "cJVu8n14k-Ev"
      },
      "source": [
        "### Aplicaciones de sistemas de ecuaciones lineales.\n",
        "\n",
        "**[Interpolación polinomial](https://en.wikipedia.org/wiki/Polynomial_interpolation#Constructing_the_interpolation_polynomial).**\n",
        "\n",
        "Supongamos que tenemos una función $p(x)$ que deseamos interpolar de la forma\n",
        "\n",
        "\\begin{equation*}\n",
        "p(x) = a_n x^n + a_{n-1} x^{n-1} + a_{n-2} x^{n-2} + \\cdots + a_2 x^2 + a_1 x + a_0 \n",
        "\\end{equation*}\n",
        "\n",
        "Si p(x) interpola un conjunto de puntos dados, entonces se tiene que\n",
        "\n",
        "\\begin{equation*}\n",
        "p(x_i) = y_i \\qquad \\forall i \\in \\{0, 1, \\ldots , n\\}\n",
        "\\end{equation*}\n",
        "\n",
        "Substituimos entonces la primera ecuación en el último conjunto de ecuaciones obtenemos un sistema de ecuaciones lineales de los coeficientes desconocidos $a_k$ con $k=0,1,\\ldots,n$.\n",
        "\n",
        "\\begin{equation*}\n",
        "\\begin{bmatrix}\n",
        "x_0^n & x_0^{n-1} & x_0^{n-2} & \\cdots & x_0 & 1 \\\\\n",
        "x_1^n & x_1^{n-1} & x_1^{n-2} & \\cdots & x_1 & 1 \\\\\n",
        "\\vdots & \\vdots & \\vdots &     & \\vdots & \\vdots \\\\  \n",
        "x_n^n & x_n^{n-1} & x_n^{n-2} & \\cdots & x_n & 1 \\\\\n",
        "\\end{bmatrix}\n",
        "\\begin{bmatrix}\n",
        "a_n \\\\ \n",
        "a_{n-1} \\\\ \n",
        "\\vdots \\\\\n",
        " a_0 \\\\\n",
        "\\end{bmatrix}\n",
        "=\n",
        "\\begin{bmatrix}\n",
        "y_0 \\\\\n",
        "y_1 \\\\\n",
        "\\vdots \\\\\n",
        "y_n \\\\\n",
        "\\end{bmatrix}\n",
        "\\end{equation*}\n",
        "\n",
        "La ecuación matricial anterior la podemos expresar como\n",
        "\n",
        "\\begin{equation*}\n",
        "X \\vec{a} = \\vec{y}\n",
        "\\end{equation*}\n",
        "\n",
        "A la matriz de la izquierda $X$, se le conoce como la [matriz de Vandermonde](https://en.wikipedia.org/wiki/Vandermonde_matrix).\n",
        "En la gráfica siguiente, se muestra un polinomio interpolante $p(x)$ en azul, y los puntos rojos son los puntos conocidos que deseamos interpolar.\n"
      ]
    },
    {
      "cell_type": "markdown",
      "metadata": {
        "id": "lmM3ngOUoppm"
      },
      "source": [
        "![interpolation_poly.png](data:image/png;base64,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)"
      ]
    },
    {
      "cell_type": "markdown",
      "metadata": {
        "id": "InfRh0xUyf9O"
      },
      "source": [
        "**Ejemplo 1: Interpolación.** Supongamos que conocemos un conjunto de 3 puntos $(x_0, y_0)$, $(x_1, y_1)$ y $(x_1, y_1)$. Buscamos entonces encontrar un polinomio de orden 2 que pase por esos 3 puntos. \n",
        "\n",
        "La parábola $p(x) = a_0 + a_1 x + a_2 x^2$ pasa por esos puntos si se satisfacen el siguiente sistema de ecuaciones\n",
        "\n",
        "\\begin{eqnarray*}\n",
        "a_0 + a_1 x_0 + a_2 x_0^2 & = & y_0 \\\\\n",
        "a_0 + a_1 x_1 + a_2 x_1^2 & = & y_1 \\\\\n",
        "a_0 + a_1 x_2 + a_2 x_2^2 & = & y_2 \\\\\n",
        "\\end{eqnarray*}\n",
        "\n",
        "Busquemos una parábola que pasa por los 3 puntos: $(0,6)$, $(3,1)$ y $(8,2)$.\n",
        "\n",
        "Entonces la matriz de Vandermonde que pasa por los puntos \n"
      ]
    },
    {
      "cell_type": "code",
      "metadata": {
        "colab": {
          "base_uri": "https://localhost:8080/"
        },
        "id": "dRTZHtwGoumB",
        "outputId": "3a0aa69a-b49f-41f2-9848-28af5aefaa68"
      },
      "source": [
        "# Matriz de Vandermonde X para una parábola que pasa por x=0,3,8\n",
        "x = np.array([0,3,8])\n",
        "X = np.column_stack([[1,1,1],x,x**2])\n",
        "print(X)"
      ],
      "execution_count": 3,
      "outputs": [
        {
          "output_type": "stream",
          "text": [
            "[[ 1  0  0]\n",
            " [ 1  3  9]\n",
            " [ 1  8 64]]\n"
          ],
          "name": "stdout"
        }
      ]
    },
    {
      "cell_type": "code",
      "metadata": {
        "colab": {
          "base_uri": "https://localhost:8080/"
        },
        "id": "e3ga9_3w-ZUo",
        "outputId": "f7adeb19-a081-4983-89e8-5aba1bb47692"
      },
      "source": [
        "# El vector y que pasa por y=6,1,2\n",
        "y = np.array([6,1,2]).reshape(3,1)\n",
        "print(y)"
      ],
      "execution_count": 4,
      "outputs": [
        {
          "output_type": "stream",
          "text": [
            "[[6]\n",
            " [1]\n",
            " [2]]\n"
          ],
          "name": "stdout"
        }
      ]
    },
    {
      "cell_type": "code",
      "metadata": {
        "colab": {
          "base_uri": "https://localhost:8080/"
        },
        "id": "B-TkQQfF1vH5",
        "outputId": "546e2489-7692-4f74-a572-40dc27b4e3c2"
      },
      "source": [
        "# Resolvemos la ecuación Xa = y, para los coeficientes desconocidos a\n",
        "# Usamos la función scipy.linalg.solve()\n",
        "a = la.solve(X,y)\n",
        "print(a)\n"
      ],
      "execution_count": 5,
      "outputs": [
        {
          "output_type": "stream",
          "text": [
            "[[ 6.        ]\n",
            " [-2.36666667]\n",
            " [ 0.23333333]]\n"
          ],
          "name": "stdout"
        }
      ]
    },
    {
      "cell_type": "code",
      "metadata": {
        "colab": {
          "base_uri": "https://localhost:8080/",
          "height": 315
        },
        "id": "GQoe4zCd1_ln",
        "outputId": "4391f2a0-4ea6-4cd3-a610-ee9035e51a14"
      },
      "source": [
        "# Graficamos los resultados del polinomio interpolante de coeficientes a[0], a[1], y a[2]\n",
        "# Sobreponemos en la gráfica los puntos conocidos en azul con puntos ('b.')\n",
        "xs = np.linspace(0,8,20)\n",
        "ys = a[0] + a[1]*xs + a[2]*xs**2\n",
        "plt.plot(xs,ys,x,y,'b.',ms=20)\n",
        "plt.grid()\n",
        "plt.title('Polinomio interpolante p(x)')\n",
        "plt.xlabel('x')\n",
        "plt.ylabel('y')\n",
        "plt.show()"
      ],
      "execution_count": 9,
      "outputs": [
        {
          "output_type": "display_data",
          "data": {
            "image/png": "[encoded data removed]",
            "text/plain": [
              "<Figure size 432x288 with 1 Axes>"
            ]
          },
          "metadata": {
            "tags": [],
            "needs_background": "light"
          }
        }
      ]
    },
    {
      "cell_type": "markdown",
      "metadata": {
        "id": "bTqa-_CR3Xic"
      },
      "source": [
        "**Ejemplo 2: Interpolación.** \n",
        "Ahora buscaremos un polinomio que pasa por 10 puntos: $(0,y_0), (1,y_1), \\ldots , (9,y_9)$, donde $y_k$ son 10 números aleatorios.  "
      ]
    },
    {
      "cell_type": "code",
      "metadata": {
        "colab": {
          "base_uri": "https://localhost:8080/",
          "height": 315
        },
        "id": "wkZDKZaT2cXg",
        "outputId": "e6f19127-b308-4d47-f411-95ac078137b3"
      },
      "source": [
        "# Generamos los 10 puntos aleatorios entre 0 y 10.\n",
        "# graficamos los puntos aleatorios en rojo con puntos ('r.')\n",
        "N = 10\n",
        "x = np.arange(0,N)\n",
        "y = np.random.randint(0,10,N)\n",
        "plt.plot(x,y,'r.')\n",
        "plt.grid()\n",
        "plt.title('Puntos aleatorios que deseamos interpolar')\n",
        "plt.xlabel('x')\n",
        "plt.ylabel('y')\n",
        "plt.show()\n"
      ],
      "execution_count": 10,
      "outputs": [
        {
          "output_type": "display_data",
          "data": {
            "image/png": "[encoded data removed]",
            "text/plain": [
              "<Figure size 432x288 with 1 Axes>"
            ]
          },
          "metadata": {
            "tags": [],
            "needs_background": "light"
          }
        }
      ]
    },
    {
      "cell_type": "code",
      "metadata": {
        "colab": {
          "base_uri": "https://localhost:8080/"
        },
        "id": "iyCQJfbi511h",
        "outputId": "7bd34347-08d4-4c47-9bf2-f97f3a181f5e"
      },
      "source": [
        "# Creamos la matriz de Vandemonde, e imprimimos los primeros 5 renglones y columnas\n",
        "X = np.column_stack([x**k for k in range(0,N)])\n",
        "print(X[:5,:5])\n"
      ],
      "execution_count": 11,
      "outputs": [
        {
          "output_type": "stream",
          "text": [
            "[[  1   0   0   0   0]\n",
            " [  1   1   1   1   1]\n",
            " [  1   2   4   8  16]\n",
            " [  1   3   9  27  81]\n",
            " [  1   4  16  64 256]]\n"
          ],
          "name": "stdout"
        }
      ]
    },
    {
      "cell_type": "code",
      "metadata": {
        "colab": {
          "base_uri": "https://localhost:8080/"
        },
        "id": "PacNaejg6TP_",
        "outputId": "22dda495-abc9-4e11-ffd0-ba3e2ca60018"
      },
      "source": [
        "# La biblioteca Numpy tambien tiene una función para crear la matriz de Vandermonde\n",
        "X = np.vander(x,increasing=True)\n",
        "# Sólo imprimimos los primeros 5 renglones y columnas.\n",
        "print(X[:5,:5])"
      ],
      "execution_count": 12,
      "outputs": [
        {
          "output_type": "stream",
          "text": [
            "[[  1   0   0   0   0]\n",
            " [  1   1   1   1   1]\n",
            " [  1   2   4   8  16]\n",
            " [  1   3   9  27  81]\n",
            " [  1   4  16  64 256]]\n"
          ],
          "name": "stdout"
        }
      ]
    },
    {
      "cell_type": "code",
      "metadata": {
        "colab": {
          "base_uri": "https://localhost:8080/"
        },
        "id": "VvxZJ8Rk7Gv3",
        "outputId": "fe34a7c8-de3a-4dd1-ee0d-5e1ac032ab58"
      },
      "source": [
        "# Usamos la función de scipy.linalg.solve(), para encontrar los 10 coeficientes\n",
        "# de la ecuación lineal Xa=y\n",
        "a = la.solve(X,y)\n",
        "print(a)\n"
      ],
      "execution_count": 14,
      "outputs": [
        {
          "output_type": "stream",
          "text": [
            "[ 4.00000000e+00  9.90920635e+01 -2.64476190e+02  2.81146748e+02\n",
            " -1.56346528e+02  5.01764468e+01 -9.61111111e+00  1.08305225e+00\n",
            " -6.61706349e-02  1.68926367e-03]\n"
          ],
          "name": "stdout"
        }
      ]
    },
    {
      "cell_type": "code",
      "metadata": {
        "colab": {
          "base_uri": "https://localhost:8080/",
          "height": 315
        },
        "id": "3Pg6z2RU73xE",
        "outputId": "1a0ddd42-1c3d-4008-a183-a9f5c8f98a76"
      },
      "source": [
        "# Graficamos el polinomio interpolante y los puntos interpolados\n",
        "# Los puntos interpolados en rojo ('r.')\n",
        "xs = np.linspace(0,N-1,200)\n",
        "ys = sum([a[k]*xs**k for k in range(0,N)])\n",
        "plt.plot(x,y,'r.',xs,ys)\n",
        "plt.grid()\n",
        "plt.title('Polinomio interpolante p(x)')\n",
        "plt.xlabel('x')\n",
        "plt.ylabel('y')\n",
        "plt.show()\n"
      ],
      "execution_count": 15,
      "outputs": [
        {
          "output_type": "display_data",
          "data": {
            "image/png": "[encoded data removed]",
            "text/plain": [
              "<Figure size 432x288 with 1 Axes>"
            ]
          },
          "metadata": {
            "tags": [],
            "needs_background": "light"
          }
        }
      ]
    },
    {
      "cell_type": "markdown",
      "metadata": {
        "id": "IXGkXXqc8tJE"
      },
      "source": [
        "Observamos que el polinomio interpolante oscila mucho cerca de los extremos. Cuando se tengan muchos puntos, no será deseable hacer una interpolación. Será mejor ajustar un polinomio de orden menor, usando alguna regresión lineal o cuadrática (por ej. ajuste de mínimos cuadrados).\n"
      ]
    },
    {
      "cell_type": "markdown",
      "metadata": {
        "id": "9Do5lQWS9jfk"
      },
      "source": [
        "### Regresión Lineal de Mínimos Cuadrados\n",
        "\n",
        "Supongamos que tenemos $(n+1)$ puntos $(x_0, y_0), (x_1,y_1), \\ldots , (x_n, y_n)$ en el plano y deseamos ajustar una curva $y = a_0 + a_1 x$ que \"mejor ajuste\" al conjunto de datos.\n",
        "\n",
        "El método que \"mejor ajusta\", es el [método de regresión lineal](https://en.wikipedia.org/wiki/Linear_regression), dado que minimiza la suma de los errores cuadrados $SSE$. \n",
        "\n",
        "\\begin{equation*}\n",
        "SSE = \\sum_i (y_i - (a_0 + a_1 x_i))^2\n",
        "\\end{equation*}\n",
        "\n",
        "En forma matricial, la regresión lineal se puede expresar como \n",
        "\n",
        "\\begin{equation*}\n",
        "X = \n",
        "\\begin{bmatrix}\n",
        "1 & x_1 \\\\\n",
        "1 & x_2 \\\\\n",
        "\\vdots & \\vdots \\\\\n",
        "1 & x_n \\\\\n",
        "\\end{bmatrix}, \\vec{y} = \n",
        "\\begin{bmatrix}\n",
        " y_1 \\\\\n",
        " y_2 \\\\\n",
        "\\vdots \\\\\n",
        " y_n \\\\\n",
        "\\end{bmatrix}, \\vec{a} = \n",
        "\\begin{bmatrix}\n",
        "a_0 \\\\\n",
        "a_1 \\\\\n",
        "\\end{bmatrix}\n",
        "\\end{equation*}\n",
        "\n",
        "y la $SSE$ se puede resumir como \n",
        "\\begin{equation*}\n",
        "SSE = || \\vec{y} - X \\vec{a} ||^2\n",
        "\\end{equation*}\n",
        "\n",
        "Los coeficientes $\\vec{a}$ que minimizan la ecuación anterior,  tiene solución única si y sólo si las columnas de la matriz $X$ son linealmente independientes. La matriz $X^T X$ es simétrica y por lo tanto diagonalizable. Multiplicaremos por $X^T$ por la izquierda la ecuación anterior y resulta:\n",
        "\n",
        "\\begin{eqnarray*}\n",
        "(\\vec{y} - X \\vec{a}) & = & 0 \\\\\n",
        "X^T (\\vec{y} - X \\vec{a}) & = & 0 \\\\\n",
        "X^T \\vec{y} - (X^T X) \\vec{a} & = & 0 \\\\\n",
        "(X^T X) \\vec{a} & = & X^T \\vec{y}\n",
        "\\end{eqnarray*}\n",
        "\n",
        "La última ecuación habrá que resolverla para $\\vec{a}$.\n"
      ]
    },
    {
      "cell_type": "markdown",
      "metadata": {
        "id": "B9rEC_hgHctb"
      },
      "source": [
        "**Ejemplo: Regresión Lineal.**\n",
        "\n",
        "Ajustaremos un línea recta a una colección de puntos aleatorios que generaremos alrededor de una recta $y = a_0 + a_1 x + \\epsilon$, donde $\\epsilon$ es una variable aleatoria con distribución normal. Utilizaremos la función *numpy.random.rand()*. "
      ]
    },
    {
      "cell_type": "code",
      "metadata": {
        "colab": {
          "base_uri": "https://localhost:8080/",
          "height": 315
        },
        "id": "AC76ELgs8gg4",
        "outputId": "1188d671-7e2a-4937-81b2-1c8d52544ab3"
      },
      "source": [
        "# Datos aleatorios que yacen alrededor de una recta\n",
        "# Coeficientes de la recta\n",
        "a0 = 2\n",
        "a1 = 3\n",
        "# Número de puntos entre (0,1)\n",
        "N = 100\n",
        "x = np.random.rand(100)\n",
        "# Ruido gaussiano\n",
        "noise = 0.2*np.random.randn(100)\n",
        "# Agregamos el ruido a la recta\n",
        "y = a0 + a1*x + noise\n",
        "\n",
        "plt.scatter(x,y);\n",
        "plt.grid()\n",
        "plt.title('Datos aleatorios')\n",
        "plt.xlabel('x')\n",
        "plt.ylabel('y')\n",
        "plt.show()"
      ],
      "execution_count": 16,
      "outputs": [
        {
          "output_type": "display_data",
          "data": {
            "image/png": "[encoded data removed]",
            "text/plain": [
              "<Figure size 432x288 with 1 Axes>"
            ]
          },
          "metadata": {
            "tags": [],
            "needs_background": "light"
          }
        }
      ]
    },
    {
      "cell_type": "code",
      "metadata": {
        "colab": {
          "base_uri": "https://localhost:8080/"
        },
        "id": "QZfftsbXJAB5",
        "outputId": "89aa0d78-9c41-4ae6-8787-81cd87a23fcf"
      },
      "source": [
        "# Creamos la matriz X, con 1's en la primera columna y los puntos x_k en la segunda.\n",
        "X = np.column_stack([np.ones(N),x])\n",
        "print('Shape:', X.shape)\n",
        "# Imprimimos los primeros 5 renglones para verificar\n",
        "print(X[:5,:])\n"
      ],
      "execution_count": 17,
      "outputs": [
        {
          "output_type": "stream",
          "text": [
            "Shape: (100, 2)\n",
            "[[1.00000000e+00 3.22019500e-01]\n",
            " [1.00000000e+00 5.27211710e-01]\n",
            " [1.00000000e+00 3.39557798e-02]\n",
            " [1.00000000e+00 6.90590527e-01]\n",
            " [1.00000000e+00 9.64835082e-04]]\n"
          ],
          "name": "stdout"
        }
      ]
    },
    {
      "cell_type": "code",
      "metadata": {
        "colab": {
          "base_uri": "https://localhost:8080/"
        },
        "id": "R8khm-ABJtIi",
        "outputId": "a1bb54ee-c1e7-408f-c336-a0cde799c617"
      },
      "source": [
        "# Usamos la función scipy.linalg.solve() para resolver la ecuación X.T@X@a = X.T@y respecto a 'a'\n",
        "a = la.solve(X.T @ X, X.T @ y)\n",
        "print(a)\n"
      ],
      "execution_count": 18,
      "outputs": [
        {
          "output_type": "stream",
          "text": [
            "[1.98636943 2.95197727]\n"
          ],
          "name": "stdout"
        }
      ]
    },
    {
      "cell_type": "code",
      "metadata": {
        "colab": {
          "base_uri": "https://localhost:8080/",
          "height": 315
        },
        "id": "AfUEaAe4KOxG",
        "outputId": "6bdd3480-7a31-468c-a7e9-1450ea5ce414"
      },
      "source": [
        "# Graficamos el ajuste con esos 2 coeficientes de la regresión y = a_0 + a_1 x \n",
        "xs = np.linspace(0,1,10)\n",
        "ys = a[0] + a[1]*xs\n",
        "plt.plot(xs,ys,'r',linewidth=4)\n",
        "plt.scatter(x,y);\n",
        "plt.grid()\n",
        "plt.title('Ajuste mediante Regresión Lineal de los datos')\n",
        "plt.xlabel('x')\n",
        "plt.ylabel('y')\n",
        "plt.show()"
      ],
      "execution_count": 19,
      "outputs": [
        {
          "output_type": "display_data",
          "data": {
            "image/png": "[encoded data removed]",
            "text/plain": [
              "<Figure size 432x288 with 1 Axes>"
            ]
          },
          "metadata": {
            "tags": [],
            "needs_background": "light"
          }
        }
      ]
    },
    {
      "cell_type": "markdown",
      "metadata": {
        "id": "MHqmGrS6LQK-"
      },
      "source": [
        "**Ajuste con un polinomio cuadrático.** \n",
        "\n",
        "Podemos extender el ejemplo anterios a una reglesión cuadrática de la forma $y = a_0 + a_1 x + a_2 x^2$.\n"
      ]
    },
    {
      "cell_type": "code",
      "metadata": {
        "colab": {
          "base_uri": "https://localhost:8080/",
          "height": 315
        },
        "id": "3IXwD3MLKzIk",
        "outputId": "b309cb23-3d77-4e9d-9389-2b84ce404574"
      },
      "source": [
        "# Los coeficientes para gererar los datos\n",
        "a0 = 3\n",
        "a1 = 5\n",
        "a2 = 8\n",
        "# Generaremos 1000 datos aleatorios entre (0,1)\n",
        "N = 1000\n",
        "x = 2*np.random.rand(N) - 1 # Distribuimos los datos entre (-1,1)\n",
        "# Ruido gaussiano\n",
        "noise = np.random.randn(N)\n",
        "# Una parábola con ruido\n",
        "y = a0 + a1*x + a2*x**2 + noise\n",
        "plt.scatter(x,y,alpha=0.5,lw=0);\n",
        "plt.grid()\n",
        "plt.title('Colección de datos aleatorios')\n",
        "plt.xlabel('x')\n",
        "plt.ylabel('y')\n",
        "plt.show()\n"
      ],
      "execution_count": 24,
      "outputs": [
        {
          "output_type": "display_data",
          "data": {
            "image/png": "[encoded data removed]",
            "text/plain": [
              "<Figure size 432x288 with 1 Axes>"
            ]
          },
          "metadata": {
            "tags": [],
            "needs_background": "light"
          }
        }
      ]
    },
    {
      "cell_type": "code",
      "metadata": {
        "colab": {
          "base_uri": "https://localhost:8080/"
        },
        "id": "nOjgIxunMg-X",
        "outputId": "7191ecc3-549d-4545-dac2-b391b2227773"
      },
      "source": [
        "# Construimos la matriz de Vandermonde\n",
        "X = np.column_stack([np.ones(N),x,x**2])\n",
        "print('Shape:', X.shape)\n",
        "# Imprimimos los primeros 5 renglones para verificar\n",
        "print(X[:5,:])\n",
        "\n"
      ],
      "execution_count": 22,
      "outputs": [
        {
          "output_type": "stream",
          "text": [
            "Shape: (1000, 3)\n",
            "[[ 1.         -0.55449286  0.30746234]\n",
            " [ 1.         -0.07239793  0.00524146]\n",
            " [ 1.         -0.42467191  0.18034623]\n",
            " [ 1.          0.79476254  0.63164749]\n",
            " [ 1.         -0.06065435  0.00367895]]\n"
          ],
          "name": "stdout"
        }
      ]
    },
    {
      "cell_type": "code",
      "metadata": {
        "colab": {
          "base_uri": "https://localhost:8080/"
        },
        "id": "XpjGsV4MNCUz",
        "outputId": "dcd26923-da36-4d13-f7cf-4776adbaaaeb"
      },
      "source": [
        "# Usamos la función scipy.linalg.solve() para resolver la ecuación X.T@X@a = X.T@y respecto a 'a'\n",
        "a = la.solve(X.T @ X, X.T @ y)\n",
        "print(a)\n"
      ],
      "execution_count": 23,
      "outputs": [
        {
          "output_type": "stream",
          "text": [
            "[2.93195245 5.11405891 7.94344015]\n"
          ],
          "name": "stdout"
        }
      ]
    },
    {
      "cell_type": "code",
      "metadata": {
        "colab": {
          "base_uri": "https://localhost:8080/",
          "height": 315
        },
        "id": "LXWzZSNVNPj0",
        "outputId": "ff3ad37d-d8ce-4003-9c60-3f1ef37c65f0"
      },
      "source": [
        "# Graficamos el resultado del ajuste\n",
        "xs = np.linspace(-1,1,20)\n",
        "ys = a[0] + a[1]*xs + a[2]*xs**2\n",
        "plt.plot(xs,ys,'r',linewidth=4)\n",
        "plt.scatter(x,y,alpha=0.5,lw=0)\n",
        "plt.grid()\n",
        "plt.title('Ajuste mediante Regresión Cuadrática a los datos')\n",
        "plt.xlabel('x')\n",
        "plt.ylabel('y')\n",
        "plt.show()\n"
      ],
      "execution_count": 25,
      "outputs": [
        {
          "output_type": "display_data",
          "data": {
            "image/png": "[encoded data removed]",
            "text/plain": [
              "<Figure size 432x288 with 1 Axes>"
            ]
          },
          "metadata": {
            "tags": [],
            "needs_background": "light"
          }
        }
      ]
    },
    {
      "cell_type": "code",
      "metadata": {
        "id": "9nMH91ufNqqn"
      },
      "source": [
        ""
      ],
      "execution_count": null,
      "outputs": []
    },
    {
      "cell_type": "markdown",
      "metadata": {
        "id": "uMnqjloCQHhf"
      },
      "source": [
        "**Ejercicio 5.**\n",
        "Se tienen los siguientes 8 puntos: \n",
        "\n",
        "\\begin{eqnarray*} \n",
        "(x&,&y) \\\\\n",
        "(0.0 &,& 0.0), \\\\ \n",
        "(0.5 &,& 0.47942), \\\\ \n",
        "(1.0 &,& 0.84147), \\\\\n",
        "(1.5 &,& 0.99749), \\\\\n",
        "(2.0 &,& 0.90930), \\\\\n",
        "(2.5 &,& 0.59847), \\\\\n",
        "(3.0 &,& 0.14112), \\\\\n",
        "(3.5 &,& -0.35078) \\\\\n",
        "\\end{eqnarray*}\n",
        "\n",
        "Encuentre un polinomio interpolante $p(x)$ que pase por los 8 puntos. \n",
        "\n",
        "Sobreponga la función $y=\\sin(x)$ y contrástela con el polinomio $p(x)$.\n",
        "\n",
        "**Ejercicio 6.** \n",
        "Regrese a su modelo de análisis de series de tiempo. Haga una descomposición de su serie de tiempo de las temperaturas (Tmax y Tmin), y realice una regresión lineal sobre la serie de Tendencia de Temp $(T = a_0 + a_1 t)$. Encuentre si la pendiente es positiva o negativa de la tendencia (signo de $a_1$), es decir si las Temperaturas (Tmax, Tmin) están subiendo o bajando en el periodo analizado.\n"
      ]
    },
    {
      "cell_type": "code",
      "metadata": {
        "id": "3fgK9roUUMz_"
      },
      "source": [
        ""
      ],
      "execution_count": null,
      "outputs": []
    }
  ]
}